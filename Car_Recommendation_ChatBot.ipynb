{
 "cells": [
  {
   "cell_type": "markdown",
   "id": "8b2709be",
   "metadata": {},
   "source": [
    "# <span style=\"color: navy; font-weight: bold;\">Car Yaar Chat Bot: Your CarAssist AI </span>\n",
    "## <span style=\"color: navy; font-weight: bold;\">Part 1: Introduction</span>\n",
    "\n",
    "#### <span style=\"color: navy; font-weight: bold;\">What We Have Learned So Far</span>\n",
    "\n",
    "<span style=\"color: navy;\">\n",
    "    \n",
    "1. **Introduction to LLM API Usage:** We have acquired skills in making API calls to OpenAI's GPT-3.5, specifically using the Chat Completion API to develop a simple AI tutor.\n",
    "\n",
    "2. **Principles of Prompt Engineering:** Essential principles include **providing clear instructions** and **enhancing LLM reasoning capabilities**. We use structured prompts that include Task, Role, Context, Guidelines, and Output Format for clarity and effectiveness.\n",
    "\n",
    "3. **Advanced Prompting Techniques:** Techniques like **Chain-of-Thought** and **Few-Shot prompting** aid in elaborating solutions step-by-step and providing examples of desired outputs, respectively. Additional methods like **self-consistency** and **ReAct prompting** help ensure reliable and contextually aware responses.\n",
    "\n",
    "4. **Designing LLM-Based Systems:** Beyond prompting techniques, we've explored safe design practices, including the use of OpenAI's moderation API to address unsafe queries and prompt injections. This groundwork prepares us for building our first LLM application, **CarAssist AI**, a chatbot designed to recommend cars based on key criteria.\n",
    "</span>\n",
    "\n"
   ]
  },
  {
   "cell_type": "markdown",
   "id": "f64d4334",
   "metadata": {},
   "source": [
    "## <span style=\"color: navy; font-weight: bold;\">Project Background</span>\n",
    "\n",
    "- <span style=\"color: navy;\">In the current digital era, the abundance of choices combined with a lack of personalized assistance can make the shopping process overwhelming.</span>\n",
    "- <span style=\"color: navy;\">To mitigate this, **CarAssist AI** has been developed. This chatbot leverages the capabilities of large language models along with rule-based functions, ensuring that information delivered is both accurate and reliable.</span>\n",
    "\n",
    "## <span style=\"color: navy; font-weight: bold;\">Problem Statement</span>\n",
    "\n",
    "- <span style=\"color: navy;\">The task involves using a dataset that includes various details about cars (**kmpl**, **car category**, **seater**, **transmission**, **fuel type**, and **price**).</span>\n",
    "- <span style=\"color: navy;\">The objective is to develop a chatbot that can parse this dataset and provide **accurate car recommendations** based on user requirements.</span>\n",
    "\n"
   ]
  },
  {
   "cell_type": "code",
   "execution_count": 1,
   "id": "80c18a35",
   "metadata": {},
   "outputs": [
    {
     "data": {
      "text/html": [
       "<div>\n",
       "<style scoped>\n",
       "    .dataframe tbody tr th:only-of-type {\n",
       "        vertical-align: middle;\n",
       "    }\n",
       "\n",
       "    .dataframe tbody tr th {\n",
       "        vertical-align: top;\n",
       "    }\n",
       "\n",
       "    .dataframe thead th {\n",
       "        text-align: right;\n",
       "    }\n",
       "</style>\n",
       "<table border=\"1\" class=\"dataframe\">\n",
       "  <thead>\n",
       "    <tr style=\"text-align: right;\">\n",
       "      <th></th>\n",
       "      <th>car model</th>\n",
       "      <th>car category</th>\n",
       "      <th>brand name</th>\n",
       "      <th>price</th>\n",
       "      <th>engine</th>\n",
       "      <th>transmission</th>\n",
       "      <th>fuel type</th>\n",
       "      <th>kmpl</th>\n",
       "      <th>color</th>\n",
       "      <th>year</th>\n",
       "      <th>seater</th>\n",
       "      <th>carfullfeature</th>\n",
       "      <th>dealer ID</th>\n",
       "      <th>dealer name</th>\n",
       "      <th>dealer GPS</th>\n",
       "    </tr>\n",
       "  </thead>\n",
       "  <tbody>\n",
       "    <tr>\n",
       "      <th>0</th>\n",
       "      <td>Maruti Suzuki Swift</td>\n",
       "      <td>Hatchback</td>\n",
       "      <td>Maruti Suzuki</td>\n",
       "      <td>600000</td>\n",
       "      <td>1.2L</td>\n",
       "      <td>Manual</td>\n",
       "      <td>Petrol</td>\n",
       "      <td>23</td>\n",
       "      <td>White</td>\n",
       "      <td>2023</td>\n",
       "      <td>5</td>\n",
       "      <td>Maruti Suzuki Swift Hatchback by Maruti Suzuki priced at 600000 features a 1.2L engine Manual transmission Petrol fuel type 23 kmpl White color 5 seater manufactured in 2023</td>\n",
       "      <td>dealer_655</td>\n",
       "      <td>GH76 Carman</td>\n",
       "      <td>https://www.google.com/maps/search/?api=1&amp;query=23.918737416780342,73.96181444289348</td>\n",
       "    </tr>\n",
       "    <tr>\n",
       "      <th>1</th>\n",
       "      <td>Hyundai Creta</td>\n",
       "      <td>Compact SUV</td>\n",
       "      <td>Hyundai</td>\n",
       "      <td>1500000</td>\n",
       "      <td>1.5L</td>\n",
       "      <td>Manual</td>\n",
       "      <td>Diesel</td>\n",
       "      <td>21</td>\n",
       "      <td>Black</td>\n",
       "      <td>2022</td>\n",
       "      <td>5</td>\n",
       "      <td>Hyundai Creta Compact SUV by Hyundai priced at 1500000 features a 1.5L engine Manual transmission Diesel fuel type 21 kmpl Black color 5 seater manufactured in 2022</td>\n",
       "      <td>dealer_115</td>\n",
       "      <td>GH76 Carman</td>\n",
       "      <td>https://www.google.com/maps/search/?api=1&amp;query=13.85018340757684,90.84590677272028</td>\n",
       "    </tr>\n",
       "    <tr>\n",
       "      <th>2</th>\n",
       "      <td>Tata Nexon</td>\n",
       "      <td>Compact SUV</td>\n",
       "      <td>Tata Motors</td>\n",
       "      <td>1200000</td>\n",
       "      <td>1.2L Turbo</td>\n",
       "      <td>Automatic</td>\n",
       "      <td>Petrol</td>\n",
       "      <td>22</td>\n",
       "      <td>Blue</td>\n",
       "      <td>2023</td>\n",
       "      <td>5</td>\n",
       "      <td>Tata Nexon Compact SUV by Tata Motors priced at 1200000 features a 1.2L Turbo engine Automatic transmission Petrol fuel type 22 kmpl Blue color 5 seater manufactured in 2023</td>\n",
       "      <td>dealer_26</td>\n",
       "      <td>XXY Carzone</td>\n",
       "      <td>https://www.google.com/maps/search/?api=1&amp;query=27.852574888515168,85.50792442017404</td>\n",
       "    </tr>\n",
       "    <tr>\n",
       "      <th>3</th>\n",
       "      <td>Mahindra Thar</td>\n",
       "      <td>Off-road SUV</td>\n",
       "      <td>Mahindra</td>\n",
       "      <td>1600000</td>\n",
       "      <td>2.0L Turbo</td>\n",
       "      <td>Manual</td>\n",
       "      <td>Petrol</td>\n",
       "      <td>15</td>\n",
       "      <td>Red</td>\n",
       "      <td>2022</td>\n",
       "      <td>4</td>\n",
       "      <td>Mahindra Thar Off-road SUV by Mahindra priced at 1600000 features a 2.0L Turbo engine Manual transmission Petrol fuel type 15 kmpl Red color 4 seater manufactured in 2022</td>\n",
       "      <td>dealer_760</td>\n",
       "      <td>GH76 Carman</td>\n",
       "      <td>https://www.google.com/maps/search/?api=1&amp;query=10.548175226037047,71.31375170161495</td>\n",
       "    </tr>\n",
       "  </tbody>\n",
       "</table>\n",
       "</div>"
      ],
      "text/plain": [
       "             car model  car category     brand name    price      engine transmission fuel type  \\\n",
       "0  Maruti Suzuki Swift     Hatchback  Maruti Suzuki   600000        1.2L       Manual    Petrol   \n",
       "1        Hyundai Creta   Compact SUV        Hyundai  1500000        1.5L       Manual    Diesel   \n",
       "2           Tata Nexon   Compact SUV    Tata Motors  1200000  1.2L Turbo    Automatic    Petrol   \n",
       "3        Mahindra Thar  Off-road SUV       Mahindra  1600000  2.0L Turbo       Manual    Petrol   \n",
       "\n",
       "   kmpl  color  year  seater  \\\n",
       "0    23  White  2023       5   \n",
       "1    21  Black  2022       5   \n",
       "2    22   Blue  2023       5   \n",
       "3    15    Red  2022       4   \n",
       "\n",
       "                                                                                                                                                                  carfullfeature  \\\n",
       "0  Maruti Suzuki Swift Hatchback by Maruti Suzuki priced at 600000 features a 1.2L engine Manual transmission Petrol fuel type 23 kmpl White color 5 seater manufactured in 2023   \n",
       "1           Hyundai Creta Compact SUV by Hyundai priced at 1500000 features a 1.5L engine Manual transmission Diesel fuel type 21 kmpl Black color 5 seater manufactured in 2022   \n",
       "2  Tata Nexon Compact SUV by Tata Motors priced at 1200000 features a 1.2L Turbo engine Automatic transmission Petrol fuel type 22 kmpl Blue color 5 seater manufactured in 2023   \n",
       "3     Mahindra Thar Off-road SUV by Mahindra priced at 1600000 features a 2.0L Turbo engine Manual transmission Petrol fuel type 15 kmpl Red color 4 seater manufactured in 2022   \n",
       "\n",
       "    dealer ID  dealer name  \\\n",
       "0  dealer_655  GH76 Carman   \n",
       "1  dealer_115  GH76 Carman   \n",
       "2   dealer_26  XXY Carzone   \n",
       "3  dealer_760  GH76 Carman   \n",
       "\n",
       "                                                                             dealer GPS  \n",
       "0  https://www.google.com/maps/search/?api=1&query=23.918737416780342,73.96181444289348  \n",
       "1   https://www.google.com/maps/search/?api=1&query=13.85018340757684,90.84590677272028  \n",
       "2  https://www.google.com/maps/search/?api=1&query=27.852574888515168,85.50792442017404  \n",
       "3  https://www.google.com/maps/search/?api=1&query=10.548175226037047,71.31375170161495  "
      ]
     },
     "execution_count": 1,
     "metadata": {},
     "output_type": "execute_result"
    }
   ],
   "source": [
    "##Run this code once to extract product info in the form of a dictionary\n",
    "import pandas as pd\n",
    "from IPython.display import display, HTML\n",
    "pd.set_option('display.width', 100)\n",
    "pd.set_option('display.max_colwidth', None)\n",
    "\n",
    "car_df= pd.read_csv('data/car_data_desc_with_gps.csv')\n",
    "car_df.head(4)"
   ]
  },
  {
   "cell_type": "code",
   "execution_count": 2,
   "id": "e8984a59",
   "metadata": {},
   "outputs": [
    {
     "name": "stdout",
     "output_type": "stream",
     "text": [
      "<class 'pandas.core.frame.DataFrame'>\n",
      "RangeIndex: 114 entries, 0 to 113\n",
      "Data columns (total 15 columns):\n",
      " #   Column          Non-Null Count  Dtype \n",
      "---  ------          --------------  ----- \n",
      " 0   car model       114 non-null    object\n",
      " 1   car category    114 non-null    object\n",
      " 2   brand name      114 non-null    object\n",
      " 3   price           114 non-null    int64 \n",
      " 4   engine          114 non-null    object\n",
      " 5   transmission    114 non-null    object\n",
      " 6   fuel type       114 non-null    object\n",
      " 7   kmpl            114 non-null    int64 \n",
      " 8   color           114 non-null    object\n",
      " 9   year            114 non-null    int64 \n",
      " 10  seater          114 non-null    int64 \n",
      " 11  carfullfeature  114 non-null    object\n",
      " 12  dealer ID       114 non-null    object\n",
      " 13  dealer name     114 non-null    object\n",
      " 14  dealer GPS      114 non-null    object\n",
      "dtypes: int64(4), object(11)\n",
      "memory usage: 13.5+ KB\n"
     ]
    }
   ],
   "source": [
    "car_df.info()"
   ]
  },
  {
   "cell_type": "code",
   "execution_count": 3,
   "id": "09bb5ae6",
   "metadata": {},
   "outputs": [
    {
     "data": {
      "text/plain": [
       "car model         0\n",
       "car category      0\n",
       "brand name        0\n",
       "price             0\n",
       "engine            0\n",
       "transmission      0\n",
       "fuel type         0\n",
       "kmpl              0\n",
       "color             0\n",
       "year              0\n",
       "seater            0\n",
       "carfullfeature    0\n",
       "dealer ID         0\n",
       "dealer name       0\n",
       "dealer GPS        0\n",
       "dtype: int64"
      ]
     },
     "execution_count": 3,
     "metadata": {},
     "output_type": "execute_result"
    }
   ],
   "source": [
    "car_df.isnull().sum()"
   ]
  },
  {
   "cell_type": "code",
   "execution_count": 4,
   "id": "71b8b157",
   "metadata": {},
   "outputs": [
    {
     "name": "stdout",
     "output_type": "stream",
     "text": [
      "===========================\n",
      "car category unique values:\n",
      "car category\n",
      "Compact SUV       24\n",
      "Sedan             22\n",
      "Hatchback         18\n",
      "Mid-size SUV      18\n",
      "Full-size SUV     11\n",
      "Electric SUV       6\n",
      "MPV                5\n",
      "Electric Sedan     4\n",
      "Off-road SUV       2\n",
      "Minivan            2\n",
      "Micro SUV          2\n",
      "Name: count, dtype: int64\n",
      "===========================\n",
      "transmission unique values:\n",
      "transmission\n",
      "Manual       59\n",
      "Automatic    55\n",
      "Name: count, dtype: int64\n",
      "===========================\n",
      "fuel type unique values:\n",
      "fuel type\n",
      "Petrol      66\n",
      "Diesel      38\n",
      "Electric    10\n",
      "Name: count, dtype: int64\n",
      "===========================\n",
      "seater unique values:\n",
      "seater\n",
      "5    92\n",
      "7    20\n",
      "4     2\n",
      "Name: count, dtype: int64\n",
      "===========================\n"
     ]
    }
   ],
   "source": [
    "# Get and print value counts for each key column\n",
    "print(\"===========================\")\n",
    "print(\"car category unique values:\")\n",
    "print(car_df['car category'].value_counts() )\n",
    "print(\"===========================\")\n",
    "\n",
    "\n",
    "print(\"transmission unique values:\")\n",
    "print(car_df['transmission'].value_counts())\n",
    "print(\"===========================\")\n",
    "\n",
    "\n",
    "print(\"fuel type unique values:\")\n",
    "print(car_df['fuel type'].value_counts() )\n",
    "print(\"===========================\")\n",
    "\n",
    "\n",
    "print(\"seater unique values:\")\n",
    "print(car_df['seater'].value_counts() )\n",
    "print(\"===========================\")"
   ]
  },
  {
   "cell_type": "markdown",
   "id": "81bc7e3b",
   "metadata": {
    "id": "81bc7e3b"
   },
   "source": [
    "## <span style=\"color: navy; font-weight: bold;\">Approach</span>\n",
    "\n",
    "- <span style=\"color: navy;\">**Conversation and Information Gathering:** The chatbot will utilize language models to understand and generate natural responses. Through a conversational flow, it will ask relevant questions to gather information about the user's requirements.</span>\n",
    "- <span style=\"color: navy;\">**Information Extraction:** Once the essential information is collected, rule-based functions come into play, extracting the top 3 cars that best match the user's needs.</span>\n",
    "- <span style=\"color: navy;\">**Personalized Recommendation:** Leveraging this extracted information, the chatbot engages in further dialogue with the user, efficiently addressing their queries and aiding them in finding the perfect car solution.</span>\n"
   ]
  },
  {
   "cell_type": "markdown",
   "id": "a43fb33e",
   "metadata": {
    "id": "a43fb33e"
   },
   "source": [
    "## <span style=\"color: navy; font-weight: bold;\">Part 2: System Design</span>\n",
    "\n",
    "#### <span style=\"color: navy; font-weight: bold;\">Dataset</span>\n",
    "\n",
    "- <span style=\"color: navy;\">We have a dataset `car.csv` where each row describes the features of a single car, including **kmpl**, **car category**, **seater**, **transmission**, **fuel type**, and **price**, and also includes a small description at the end.</span>\n",
    "- <span style=\"color: navy;\">The chatbot that we build will leverage LLMs to parse this `Description` column and provide recommendations.</span>"
   ]
  },
  {
   "cell_type": "markdown",
   "id": "73d39aba",
   "metadata": {
    "id": "73d39aba"
   },
   "source": [
    "<span style=\"color:navy\">\n",
    "The chatbot is developed to guide users effectively through a structured interaction focusing on **key car features**:\n",
    "\n",
    "- **kmpl**\n",
    "- **car category**\n",
    "- **seater**\n",
    "- **transmission**\n",
    "- **fuel type**\n",
    "- **price**\n",
    "\n",
    "After the initial interaction, the chatbot ensures it has accurately captured the user's specifications. It subsequently lists the top three car models that align best with these specifications, further aiding the user in making an informed decision.\n",
    "\n",
    "#### Building the Chatbot\n",
    "\n",
    "Below is the system design for the chatbot, followed by a detailed explanation of each operational stage and the primary functions involved.\n",
    "\n",
    "![Chatbot System Design](images/chatbot.png)\n",
    "\n",
    "**Stage 1**\n",
    "- Intent Clarity Layer\n",
    "- Intent Confirmation Layer\n",
    "\n",
    "**Stage 2**\n",
    "- Product Mapping Layer\n",
    "- Product Information Extraction Layer\n",
    "\n",
    "**Stage 3**\n",
    "- Product Recommendation Layer\n",
    "\n",
    "##### Key Functions of the Chatbot\n",
    "\n",
    "Here's a concise overview of the chatbot's critical functions, with comprehensive code details to follow:\n",
    "\n",
    "- **`initialize_conversation()`**: Starts the interaction with a system-generated message.\n",
    "- **`get_chat_completions()`**: Receives ongoing conversation input and generates the assistant's reply.\n",
    "- **`moderation_check()`**: Monitors for inappropriate content from both user and assistant, halting the conversation if detected.\n",
    "- **`intent_confirmation_layer()`**: Assesses if the chatbot has accurately captured the user's preferences in terms of kmpl, car category, seater, transmission, fuel type, and price.\n",
    "- **`dictionary_present()`**: Verifies if the user's profile is correctly encapsulated in a Python dictionary, extracting relevant data.\n",
    "- **`compare_cars_with_user()`**: Matches the user's profile against various cars to determine the top three suggestions.\n",
    "- **`initialize_conv_reco()`**: Begins the recommendation phase of the conversation.\n",
    "\n",
    "The subsequent sections will delve into the coding aspects of these functions.\n",
    "</span>\n"
   ]
  },
  {
   "cell_type": "markdown",
   "id": "59bd717d",
   "metadata": {
    "id": "59bd717d"
   },
   "source": [
    "<span style=\"color:navy\">\n",
    "    \n",
    "## Part 3: Implementation    \n",
    "\n",
    "## Stage 1\n",
    "    \n",
    "![Design](images/stage1.png)    \n",
    "\n",
    "### 3.1 - Import the libraries\n",
    "\n",
    "Let's start by importing the libraries that we'll require for this project. The following libraries are essential:\n",
    "- **openai**: For accessing the OpenAI API functionalities.\n",
    "- **pandas**: For data manipulation and analysis.\n",
    "- **os, json, ast**: For handling file operations, JSON data parsing, and converting strings to Python datatypes respectively.\n",
    "\n",
    "Ensure the API key is securely stored in the text file `OPENAI_API_Key.txt`.\n",
    "</span>\n",
    "\n"
   ]
  },
  {
   "cell_type": "code",
   "execution_count": 5,
   "id": "l7BLDeM5MXrC",
   "metadata": {
    "colab": {
     "base_uri": "https://localhost:8080/"
    },
    "id": "l7BLDeM5MXrC",
    "outputId": "479bb29e-72c4-4bc3-bec2-558f7460c72c"
   },
   "outputs": [],
   "source": [
    "# Install OpenAI library\n",
    "!pip install -U -q openai tenacity\n",
    "\n",
    "# Import the libraries\n",
    "import os, json, ast\n",
    "import openai\n",
    "import json\n",
    "from tenacity import retry, wait_random_exponential, stop_after_attempt"
   ]
  },
  {
   "cell_type": "code",
   "execution_count": 6,
   "id": "7c90af6c",
   "metadata": {
    "id": "7c90af6c"
   },
   "outputs": [],
   "source": [
    "# Read the OpenAI API key\n",
    "openai.api_key = open(\"/Users/shrinivasd/#Upgrad/#12_GenAi_Upgrad/OpenAI_API_Key.txt\", \"r\").read().strip()\n",
    "os.environ['OPENAI_API_KEY'] = openai.api_key"
   ]
  },
  {
   "cell_type": "markdown",
   "id": "f6597837",
   "metadata": {
    "id": "f6597837"
   },
   "source": [
    "<span style=\"color:navy\">\n",
    "    \n",
    "    \n",
    "### 3.2 - Implementing Intent Clarity and Intent Confirmation Layers\n",
    "\n",
    "Let's begin with the initial part of the implementation - constructing the `intent clarity` and `intent confirmation` layers. These layers are crucial for identifying the user's requirements and ensuring they are accurately communicated to the product matching layer. Here are the functions used to build these layers:\n",
    "\n",
    "- **`initialize_conversation()`**\n",
    "\n",
    "### `initialize_conversation()`:\n",
    "This function initializes the variable `conversation` with the system message. It employs prompt engineering and chain of thought reasoning to enable the chatbot to continue querying until the user's requirements are comprehensively captured in a dictionary. It also incorporates Few Shot Prompting—a sample conversation between the user and assistant—to better align the model with the expected user and assistant responses at each interaction step.\n",
    "\n",
    "```python\n",
    "def initialize_conversation():\n",
    "    '''\n",
    "    Initializes a conversation for an intelligent car advisor system.\n",
    "\n",
    "    Returns:\n",
    "        list: [{\"role\": \"system\", \"content\": system_message}]\n",
    "        A list containing a dictionary representing the system's initial message.\n",
    "        \n",
    "    The function initiates a conversation with the user, providing guidelines, examples,\n",
    "    and a sample dialogue to aid the user in interacting with the system. The initial system\n",
    "    message outlines the conversation's purpose, instructions for inputting user profile details,\n",
    "    guidelines for inquiries, and a demonstration of how the dialogue with the system unfolds.\n",
    "\n",
    "    The system expects the user to furnish details related to their car preferences,\n",
    "    including kmpl, car category, seater, transmission, fuel type, and price. This information\n",
    "    is utilized to update a predefined dictionary representing the user's profile. The system\n",
    "    focuses on extracting precise details from the user's responses to accurately populate\n",
    "    the dictionary values.\n",
    "\n",
    "    The conversation flow involves three main thoughts:\n",
    "    - Thought 1: Comprehending the user's profile and confidently filling values.\n",
    "    - Thought 2: Populating values for remaining keys based on collected information.\n",
    "    - Thought 3: Confirming and verifying the updated dictionary values.\n",
    "\n",
    "    Users are encouraged to engage in a substantive dialogue with the system to ensure\n",
    "    an accurate profile representation and personalized recommendations for the optimal car selection.\n",
    "\n",
    "    Usage:\n",
    "        # Initialize the conversation\n",
    "        conversation = initialize_conversation()\n",
    "        # Print the conversation\n",
    "        print(conversation)\n",
    "    '''\n",
    "\n"
   ]
  },
  {
   "cell_type": "code",
   "execution_count": 7,
   "id": "431f76f6",
   "metadata": {
    "id": "431f76f6"
   },
   "outputs": [],
   "source": [
    "def initialize_conversation():\n",
    "    '''\n",
    "    Returns a list [{\"role\": \"system\", \"content\": system_message}]\n",
    "    '''\n",
    "\n",
    "    delimiter = \"####\"\n",
    "\n",
    "    # Unique values for the example dictionary\n",
    "    unique_car_categories = {\n",
    "    \"Compact SUV\", \"Sedan\", \"Hatchback\", \"Mid-size SUV\", \"Full-size SUV\",\n",
    "    \"Electric SUV\", \"MPV\", \"Electric Sedan\", \"Off-road SUV\", \"Minivan\", \"Micro SUV\"}\n",
    "    unique_seaters = {4, 5, 7}\n",
    "    unique_transmissions = {'Manual', 'Automatic'}\n",
    "    unique_fuel_types = {'Petrol', 'Diesel', 'Electric'}\n",
    "\n",
    "    example_user_dict = {\n",
    "        'kmpl': 20,\n",
    "        'car category': 'Compact SUV',\n",
    "        'seater': 5,\n",
    "        'transmission': 'Automatic',\n",
    "        'fuel type': 'Petrol',\n",
    "        'price': 1500000\n",
    "      \n",
    "    }\n",
    "\n",
    "    example_user_req = {\n",
    "        'kmpl': \"_\",\n",
    "        'car category': \"_\",\n",
    "        'seater': \"_\",\n",
    "        'transmission': \"_\",\n",
    "        'fuel type': \"_\",\n",
    "        'price': \"_\"\n",
    "    }\n",
    "\n",
    "    system_message = f\"\"\"\n",
    "    You are an intelligent car recommendation assistant and your goal is to find the best car for a user.\n",
    "    You need to ask relevant questions and understand the user's preferences by analyzing their responses.\n",
    "    Your final objective is to fill the values for the different keys \n",
    "    Your final objective is to fill in the values for different features listed below:\n",
    "\n",
    "    - kmpl,\n",
    "    - car category, \n",
    "    - seater,\n",
    "    - transmission, \n",
    "    - fuel type, and \n",
    "    - price in the Python dictionary \n",
    "    and be confident of the values. \n",
    "    \n",
    "    After filling the keys, be confident of the requirements. If there is confusion, \n",
    "    then give reason very very clearly. \n",
    "    \n",
    "    These key-value pairs define the user's preferences.\n",
    "    The Python dictionary looks like this\n",
    "    {{'kmpl': 'values', 'car category': 'values', 'seater': 'values', 'transmission': 'values', \n",
    "    'fuel type': 'values', 'price': 'values'}}\n",
    "    The value for 'price' should be a numerical value extracted from the user's response.\n",
    "    The values for all keys, except 'price', should be based on the user's preferences.\n",
    "    All the values in the example dictionary are only representative values.\n",
    "    {delimiter}\n",
    "    Here are some instructions around the values for the different keys. If you do not follow this,\n",
    "    you'll be heavily penalized:\n",
    "    - The values for all keys, except 'price', should be based on the user's preferences.\n",
    "    - The value for 'price' should be a numerical value extracted from the user's response.\n",
    "    - The 'price' value needs to be within the range of available car prices. Treat Price in INR in entire chat with user.\n",
    "    If the user provides an out-of-range value, mention that there are no cars in that range.\n",
    "    - Do not randomly assign values to any of the keys.\n",
    "    - Do not generate any data by referring internet. Provide data only from car data file, based on score logic defined below.\n",
    "    - The values need to be inferred from the user's response.\n",
    "    {delimiter}\n",
    "\n",
    "    Thought 1: Ask a question to understand the user's profile and requirements. \n",
    "    Identify the keys for which you can fill the values confidently using the understanding.\n",
    "    If their primary use for the car is unclear, ask follow-up questions to understand their needs.\n",
    "    You are trying to fill the values of all the keys ('kmpl', 'car category', 'seater', \n",
    "    'transmission', 'fuel type', 'price') in the Python dictionary by understanding the user requirements.\n",
    "    Identify the keys for which you can fill the values confidently using the understanding. \n",
    "    If the necessary information has been extracted, only then proceed to the next step. \n",
    "    Otherwise, rephrase the question to capture their profile clearly.\n",
    "\n",
    "    Thought 2: Now, you are trying to fill the values for the rest of the keys which you couldn't in the previous \n",
    "    step. Remember the instructions around the values for the different keys. Ask questions you might have for all\n",
    "    the keys to strengthen your understanding of the user's profile.\n",
    "    If yes, move to the next Thought. If no, ask questions on the keys whose values you are unsure of. \n",
    "    It is a good practice to ask questions with a sound logic as opposed to directly citing the key you \n",
    "    want to understand value for.\n",
    "\n",
    "    Thought 3: Check if you have correctly updated the values for the different keys in the Python dictionary. \n",
    "    If you are not confident about any of the values, ask clarifying questions.\n",
    "\n",
    "    Here is a sample conversation between the user and assistant:\n",
    "    User: \"Hi, I am looking for a car.\"\n",
    "    Assistant: \"Great! As a car recommendation assistant, I can help you find the perfect car based on your \n",
    "    preferences. Could you please let me know what type of car you are looking for? Are you interested in a \n",
    "    Hatchback, Sedan, SUV, or another type?\"\n",
    "    User: \"I am interested in an SUV.\"\n",
    "    Assistant: \"Thank you for providing that information. Could you please specify your budget for the car \n",
    "    in lacs or millions? This will help me find options that fit within your price range while meeting \n",
    "    your specified requirements.\"\n",
    "    User: \"My budget is around 15 lacs.\"\n",
    "    Assistant: \"Thank you, so you mean 1,500,000 INR. What fuel efficiency are you looking for in terms of kmpl?\"\n",
    "    User: \"I want a car that gives at least 20 kmpl.\"\n",
    "    Assistant: \"Perfect, I'll note that down. And how about the number of seats? Do you need a 5-seater \n",
    "    or something different?\"\n",
    "    User: \"A 5-seater would be ideal.\"\n",
    "    Assistant: \"Got it, a 5-seater. And what about the transmission type? Do you prefer manual or automatic?\"\n",
    "    User: \"I prefer automatic transmission.\"\n",
    "    Assistant: \"Automatic, understood. Lastly, do you have a preference for the type of fuel?\"\n",
    "    User: \"I would like a petrol car.\"\n",
    "    Assistant: \"Petrol, noted. Let me summarize your preferences: You're looking for an SUV \n",
    "    with a manual transmission, petrol as fuel type, at least 20 kmpl, 5 seats, and your \n",
    "    budget is around 1,500,000 INR. Is that correct?\"\n",
    "    User: \"Yes, that's correct.\"\n",
    "    Assistant: \"Great! Based on your preferences, here are some options we can explore. \n",
    "    Let's proceed to find the best matches for you.\"\n",
    "    Assistant: \"{example_user_dict}\"\n",
    "    {delimiter}\n",
    "\n",
    "    Start with a short welcome message and encourage the user to share their requirements. \n",
    "   \n",
    "    \"\"\"\n",
    "    conversation = [{\"role\": \"system\", \"content\": system_message}]\n",
    "    return conversation\n",
    "\n",
    "debug_conversation = initialize_conversation()"
   ]
  },
  {
   "cell_type": "code",
   "execution_count": 8,
   "id": "78ccd84f",
   "metadata": {},
   "outputs": [
    {
     "name": "stdout",
     "output_type": "stream",
     "text": [
      "\n",
      "    You are an intelligent car recommendation assistant and your goal is to find the best car for a user.\n",
      "    You need to ask relevant questions and understand the user's preferences by analyzing their responses.\n",
      "    Your final objective is to fill the values for the different keys \n",
      "    Your final objective is to fill in the values for different features listed below:\n",
      "\n",
      "    - kmpl,\n",
      "    - car category, \n",
      "    - seater,\n",
      "    - transmission, \n",
      "    - fuel type, and \n",
      "    - price in the Python dictionary \n",
      "    and be confident of the values. \n",
      "    \n",
      "    After filling the keys, be confident of the requirements. If there is confusion, \n",
      "    then give reason very very clearly. \n",
      "    \n",
      "    These key-value pairs define the user's preferences.\n",
      "    The Python dictionary looks like this\n",
      "    {'kmpl': 'values', 'car category': 'values', 'seater': 'values', 'transmission': 'values', \n",
      "    'fuel type': 'values', 'price': 'values'}\n",
      "    The value for 'price' should be a numerical value extracted from the user's response.\n",
      "    The values for all keys, except 'price', should be based on the user's preferences.\n",
      "    All the values in the example dictionary are only representative values.\n",
      "    ####\n",
      "    Here are some instructions around the values for the different keys. If you do not follow this,\n",
      "    you'll be heavily penalized:\n",
      "    - The values for all keys, except 'price', should be based on the user's preferences.\n",
      "    - The value for 'price' should be a numerical value extracted from the user's response.\n",
      "    - The 'price' value needs to be within the range of available car prices. Treat Price in INR in entire chat with user.\n",
      "    If the user provides an out-of-range value, mention that there are no cars in that range.\n",
      "    - Do not randomly assign values to any of the keys.\n",
      "    - Do not generate any data by referring internet. Provide data only from car data file, based on score logic defined below.\n",
      "    - The values need to be inferred from the user's response.\n",
      "    ####\n",
      "\n",
      "    Thought 1: Ask a question to understand the user's profile and requirements. \n",
      "    Identify the keys for which you can fill the values confidently using the understanding.\n",
      "    If their primary use for the car is unclear, ask follow-up questions to understand their needs.\n",
      "    You are trying to fill the values of all the keys ('kmpl', 'car category', 'seater', \n",
      "    'transmission', 'fuel type', 'price') in the Python dictionary by understanding the user requirements.\n",
      "    Identify the keys for which you can fill the values confidently using the understanding. \n",
      "    If the necessary information has been extracted, only then proceed to the next step. \n",
      "    Otherwise, rephrase the question to capture their profile clearly.\n",
      "\n",
      "    Thought 2: Now, you are trying to fill the values for the rest of the keys which you couldn't in the previous \n",
      "    step. Remember the instructions around the values for the different keys. Ask questions you might have for all\n",
      "    the keys to strengthen your understanding of the user's profile.\n",
      "    If yes, move to the next Thought. If no, ask questions on the keys whose values you are unsure of. \n",
      "    It is a good practice to ask questions with a sound logic as opposed to directly citing the key you \n",
      "    want to understand value for.\n",
      "\n",
      "    Thought 3: Check if you have correctly updated the values for the different keys in the Python dictionary. \n",
      "    If you are not confident about any of the values, ask clarifying questions.\n",
      "\n",
      "    Here is a sample conversation between the user and assistant:\n",
      "    User: \"Hi, I am looking for a car.\"\n",
      "    Assistant: \"Great! As a car recommendation assistant, I can help you find the perfect car based on your \n",
      "    preferences. Could you please let me know what type of car you are looking for? Are you interested in a \n",
      "    Hatchback, Sedan, SUV, or another type?\"\n",
      "    User: \"I am interested in an SUV.\"\n",
      "    Assistant: \"Thank you for providing that information. Could you please specify your budget for the car \n",
      "    in lacs or millions? This will help me find options that fit within your price range while meeting \n",
      "    your specified requirements.\"\n",
      "    User: \"My budget is around 15 lacs.\"\n",
      "    Assistant: \"Thank you, so you mean 1,500,000 INR. What fuel efficiency are you looking for in terms of kmpl?\"\n",
      "    User: \"I want a car that gives at least 20 kmpl.\"\n",
      "    Assistant: \"Perfect, I'll note that down. And how about the number of seats? Do you need a 5-seater \n",
      "    or something different?\"\n",
      "    User: \"A 5-seater would be ideal.\"\n",
      "    Assistant: \"Got it, a 5-seater. And what about the transmission type? Do you prefer manual or automatic?\"\n",
      "    User: \"I prefer automatic transmission.\"\n",
      "    Assistant: \"Automatic, understood. Lastly, do you have a preference for the type of fuel?\"\n",
      "    User: \"I would like a petrol car.\"\n",
      "    Assistant: \"Petrol, noted. Let me summarize your preferences: You're looking for an SUV \n",
      "    with a manual transmission, petrol as fuel type, at least 20 kmpl, 5 seats, and your \n",
      "    budget is around 1,500,000 INR. Is that correct?\"\n",
      "    User: \"Yes, that's correct.\"\n",
      "    Assistant: \"Great! Based on your preferences, here are some options we can explore. \n",
      "    Let's proceed to find the best matches for you.\"\n",
      "    Assistant: \"{'kmpl': 20, 'car category': 'Compact SUV', 'seater': 5, 'transmission': 'Automatic', 'fuel type': 'Petrol', 'price': 1500000}\"\n",
      "    ####\n",
      "\n",
      "    Start with a short welcome message and encourage the user to share their requirements. \n",
      "   \n",
      "    \n"
     ]
    }
   ],
   "source": [
    "system_message = initialize_conversation()\n",
    "print(system_message[0][\"content\"])"
   ]
  },
  {
   "cell_type": "markdown",
   "id": "00f77346",
   "metadata": {
    "id": "00f77346"
   },
   "source": [
    "<span style=\"color:navy\">\n",
    "    \n",
    "    \n",
    "Let's now explore the next function:\n",
    "    \n",
    "    \n",
    "- `get_chat_completions()`: This function processes the ongoing conversation and generates the assistant's response. It utilizes the Chat Completions function for executing LLM calls to OpenAI.\n",
    "\n",
    "### `get_chat_completions()`:\n",
    "\n",
    "This function performs an LLM call using the Chat Completions API to obtain the LLM response. It is crucial for dynamically generating accurate and contextually relevant responses based on the conversation flow.\n"
   ]
  },
  {
   "cell_type": "code",
   "execution_count": 9,
   "id": "dYShGKumNEIM",
   "metadata": {
    "id": "dYShGKumNEIM"
   },
   "outputs": [],
   "source": [
    "# Define a Chat Completions API call\n",
    "# Retry up to 6 times with exponential backoff, starting at 1 second and maxing out at 20 seconds delay\n",
    "@retry(wait=wait_random_exponential(min=1, max=20), stop=stop_after_attempt(6))\n",
    "def get_chat_completions(input, json_format = False):\n",
    "    MODEL = 'gpt-3.5-turbo'\n",
    "\n",
    "    system_message_json_output = \"\"\"<<. Return output in JSON format to the key output.>>\"\"\"\n",
    "\n",
    "    # If the output is required to be in JSON format\n",
    "    if json_format == True:\n",
    "        # Append the input prompt to include JSON response as specified by OpenAI\n",
    "        input[0]['content'] += system_message_json_output\n",
    "\n",
    "        # JSON return type specified\n",
    "        chat_completion_json = openai.chat.completions.create(\n",
    "            model = MODEL,\n",
    "            messages = input,\n",
    "            response_format = { \"type\": \"json_object\"},\n",
    "            seed = 1234)\n",
    "\n",
    "        output = json.loads(chat_completion_json.choices[0].message.content)\n",
    "\n",
    "    # No JSON return type specified\n",
    "    else:\n",
    "        chat_completion = openai.chat.completions.create(\n",
    "            model = MODEL,\n",
    "            messages = input,\n",
    "            seed = 2345)\n",
    "\n",
    "        output = chat_completion.choices[0].message.content\n",
    "\n",
    "    return output"
   ]
  },
  {
   "cell_type": "markdown",
   "id": "I6gq3hIj6XEr",
   "metadata": {
    "id": "I6gq3hIj6XEr"
   },
   "source": [
    "<span style=\"color:navy\">\n",
    "    \n",
    "    \n",
    "### `iterate_response()` - Helper Function:\n",
    "We've developed a helper function named `iterate_response()` to test the consistency of the model's responses. This function is particularly useful in ensuring that the responses from the `intent_confirmation_layer` remain consistent throughout the testing process. Uncomment the code blocks and run the function `iterate_response(response)` to verify the consistency.\n"
   ]
  },
  {
   "cell_type": "code",
   "execution_count": 10,
   "id": "3c369bd0",
   "metadata": {
    "id": "3c369bd0"
   },
   "outputs": [],
   "source": [
    "def iterate_llm_response(funct, debug_response, num = 10):\n",
    "    \"\"\"\n",
    "    Calls a specified function repeatedly and prints the results.\n",
    "    This function is designed to test the consistency of a response from a given function.\n",
    "    It calls the function multiple times (default is 10) and prints out the iteration count,\n",
    "    the function's response(s).\n",
    "    Args:\n",
    "        funct (function): The function to be tested. This function should accept a single argument\n",
    "                          and return the response value(s).\n",
    "        debug_response (dict): The input argument to be passed to 'funct' on each call.\n",
    "        num (int, optional): The number of times 'funct' will be called. Defaults to 10.\n",
    "    Returns:\n",
    "        This function only returns the results to the console.\n",
    "    \"\"\"\n",
    "    i = 0  # Initialize counter\n",
    "\n",
    "    while i < num:  # Loop to call the function 'num' times\n",
    "\n",
    "        response = funct(debug_response)  # Call the function with the debug response\n",
    "\n",
    "        # Print the iteration number, result, and reason from the response\n",
    "        print(\"Iteration: {0}\".format(i))\n",
    "        print(response)\n",
    "        print('-' * 50)  # Print a separator line for readability\n",
    "        i += 1  # Increment the counter\n",
    "\n",
    "# Example usage: test the consistency of responses from 'intent_confirmation_layer'\n",
    "# iterate_llm_response(get_chat_completions, messages)"
   ]
  },
  {
   "cell_type": "code",
   "execution_count": 11,
   "id": "88441535",
   "metadata": {},
   "outputs": [
    {
     "name": "stdout",
     "output_type": "stream",
     "text": [
      "Hi, I am Shrinivas. I need a Car recommendation for family, Daily use\n"
     ]
    }
   ],
   "source": [
    "debug_user_input = \"Hi, I am Shrinivas. I need a Car recommendation for family, Daily use\"\n",
    "\n",
    "debug_conversation.append({\"role\": \"user\", \"content\": debug_user_input})\n",
    "# print(debug_conversation[0][\"content\"]) # System Message\n",
    "print(debug_conversation[1][\"content\"]) # User Input"
   ]
  },
  {
   "cell_type": "code",
   "execution_count": 12,
   "id": "eff921cb",
   "metadata": {},
   "outputs": [
    {
     "data": {
      "text/plain": [
       "\"Great, Shrinivas! As a car recommendation assistant, I can help you find the perfect car based on your family's needs and daily use. Could you please specify what type of car you are looking for? Are you interested in a Hatchback, Sedan, SUV, or any other type of car? This will help me understand your requirements better.\""
      ]
     },
     "metadata": {},
     "output_type": "display_data"
    }
   ],
   "source": [
    "debug_response_assistant = get_chat_completions(debug_conversation)\n",
    "display(debug_response_assistant)"
   ]
  },
  {
   "cell_type": "markdown",
   "id": "5cc13511",
   "metadata": {
    "id": "5cc13511"
   },
   "source": [
    "<span style=\"color:navy\">\n",
    "    \n",
    "    \n",
    "### `moderation_check()`:\n",
    "    \n",
    "This function is designed to monitor the appropriateness of both user and assistant messages within the conversation. If any message is deemed inappropriate, a break statement is included to terminate the conversation immediately.\n"
   ]
  },
  {
   "cell_type": "code",
   "execution_count": 13,
   "id": "e5c799b4",
   "metadata": {
    "id": "e5c799b4"
   },
   "outputs": [],
   "source": [
    "# Define a function called moderation_check that takes user_input as a parameter.\n",
    "\n",
    "def moderation_check(user_input):\n",
    "    # Call the OpenAI API to perform moderation on the user's input.\n",
    "    response = openai.moderations.create(input=user_input)\n",
    "\n",
    "    # Extract the moderation result from the API response.\n",
    "    moderation_output = response.results[0].flagged\n",
    "    # Check if the input was flagged by the moderation system.\n",
    "    if response.results[0].flagged == True:\n",
    "        # If flagged, return \"Flagged\"\n",
    "        return \"Flagged\"\n",
    "    else:\n",
    "        # If not flagged, return \"Not Flagged\"\n",
    "        return \"Not Flagged\""
   ]
  },
  {
   "cell_type": "code",
   "execution_count": 14,
   "id": "67uPavgXgry4",
   "metadata": {
    "colab": {
     "base_uri": "https://localhost:8080/",
     "height": 36
    },
    "id": "67uPavgXgry4",
    "outputId": "4992120b-c3de-4ceb-be1b-6389798c1672"
   },
   "outputs": [
    {
     "name": "stdout",
     "output_type": "stream",
     "text": [
      "Flagged\n",
      "Not Flagged\n"
     ]
    }
   ],
   "source": [
    "print(moderation_check(\"I want to kill Ravan.\"))\n",
    "print(moderation_check(\"I need a car for family use\"))"
   ]
  },
  {
   "cell_type": "markdown",
   "id": "8c9225ae",
   "metadata": {
    "id": "8c9225ae"
   },
   "source": [
    "Let's test moderation on the `debug_user_input`"
   ]
  },
  {
   "cell_type": "code",
   "execution_count": 15,
   "id": "86d12659",
   "metadata": {
    "colab": {
     "base_uri": "https://localhost:8080/"
    },
    "id": "86d12659",
    "outputId": "565336b9-b460-456c-950f-56ebb955f0aa"
   },
   "outputs": [
    {
     "name": "stdout",
     "output_type": "stream",
     "text": [
      "Not Flagged\n"
     ]
    }
   ],
   "source": [
    "debug_moderation = moderation_check(debug_user_input)\n",
    "print(debug_moderation)"
   ]
  },
  {
   "cell_type": "markdown",
   "id": "6c6d2f2b",
   "metadata": {
    "id": "6c6d2f2b"
   },
   "source": [
    "<span style=\"color:navy\">\n",
    "    \n",
    "    \n",
    "Let's now test moderation on some other text.\n",
    "\n",
    "So, this moderation api may not be perfect but if you ask this to the ChatGPT or it's API (GPT 3.5), it'll not help you with such requests. Remember, moderation should also be applied on the GPT 3.5's output.\n",
    "\n",
    "Let's now check moderation on the assistant's response `debug_response_assistant`."
   ]
  },
  {
   "cell_type": "code",
   "execution_count": 16,
   "id": "e289d1c1",
   "metadata": {
    "colab": {
     "base_uri": "https://localhost:8080/",
     "height": 36
    },
    "id": "e289d1c1",
    "outputId": "4c4c2b08-5966-411e-e9e1-8462bf008752"
   },
   "outputs": [
    {
     "data": {
      "text/plain": [
       "'Not Flagged'"
      ]
     },
     "execution_count": 16,
     "metadata": {},
     "output_type": "execute_result"
    }
   ],
   "source": [
    "moderation_check(debug_response_assistant)"
   ]
  },
  {
   "cell_type": "markdown",
   "id": "543bca28",
   "metadata": {
    "id": "543bca28"
   },
   "source": [
    "<span style=\"color:navy\">\n",
    "As previously mentioned, understanding the user's profile is critical, which means ensuring that all key car-related features are captured. Let's consider the function that assists in verifying this.\n",
    "\n",
    "### `intent_confirmation_layer()`:\n",
    "\n",
    "This function evaluates the assistant's response to determine if the chatbot has effectively captured the user's profile. Specifically, it checks if the following car-related properties have been accurately documented:\n",
    "   - **kmpl**\n",
    "   - **car category**\n",
    "   - **seater**\n",
    "   - **transmission**\n",
    "   - **fuel type**\n",
    "   - **price**\n",
    "\n",
    "```python\n",
    "def intent_confirmation_layer(response_assistant):\n",
    "    \"\"\"\n",
    "    This function serves as an intent confirmation layer for a car recommendation system using the OpenAI LLM API.\n",
    "\n",
    "    Parameters:\n",
    "    - response_assistant (str): The input text containing user car preferences captured through 6 keys:\n",
    "        'kmpl', 'car category', 'seater', 'transmission', 'fuel type', and 'price'.\n",
    "\n",
    "    Returns:\n",
    "    - str: A one-word string in JSON format indicating if the values for the specified keys are correctly filled.\n",
    "        - 'Yes' if the values are correctly filled for all keys ('kmpl', 'car category', 'seater', 'transmission', 'fuel type', 'price') based on the importance as stated by the user.\n",
    "        - 'No' otherwise.\n",
    "\n",
    "    Note:\n",
    "    - The values for all keys should be precisely filled based on their importance as stated by the user.\n",
    "    - The input text should be structured such that it contains the necessary keys and their corresponding values.\n",
    "    - The function uses OpenAI's Chat Completion API to evaluate the correctness of the input values.\n",
    "    \"\"\"\n"
   ]
  },
  {
   "cell_type": "code",
   "execution_count": 17,
   "id": "w1o5KuBeONhF",
   "metadata": {
    "id": "w1o5KuBeONhF"
   },
   "outputs": [],
   "source": [
    "def intent_confirmation_layer(response_assistant):\n",
    "\n",
    "    delimiter = \"####\"\n",
    "\n",
    "    allowed_car_categories = {\n",
    "    \"Compact SUV\", \"Sedan\", \"Hatchback\", \"Mid-size SUV\", \"Full-size SUV\",\n",
    "    \"Electric SUV\", \"MPV\", \"Electric Sedan\", \"Off-road SUV\", \"Minivan\", \"Micro SUV\"}\n",
    "    \n",
    "    \n",
    "    allowed_car_seaters = {4, 5, 7}\n",
    "    allowed_transmissions = {'Manual', 'Automatic'}\n",
    "    allowed_fuel_types = {'Petrol', 'Diesel', 'Electric'}\n",
    "\n",
    "    prompt = f\"\"\"\n",
    "    You are a senior evaluator who has an eye for detail. The input text will contain a user requirement captured through 6 keys.\n",
    "    You are provided an input. You need to evaluate if the input text has the following keys:\n",
    "    {{\n",
    "    'kmpl': 'value',\n",
    "    'car category': 'value',\n",
    "    'seater': 'value',\n",
    "    'transmission': 'value',\n",
    "    'fuel type': 'value',\n",
    "    'price': 'value'\n",
    "    }}\n",
    "    \n",
    "    The values for 'car category' MUST be ONE of the allowed values: {allowed_car_categories}\n",
    "    The values for 'seater' MUST be ONE of the allowed values: {allowed_car_seaters}\n",
    "    The values for 'transmission' MUST be ONE of the allowed values: {allowed_transmissions}\n",
    "    The values for 'fuel type' MUST be ONE of the allowed values: {allowed_fuel_types}\n",
    "    \n",
    "    The 'kmpl' and 'price' keys should be numerical values.\n",
    "    \n",
    "    \n",
    "    Next, you need to evaluate if the keys have the values filled correctly.\n",
    "    Only output a one-word string in JSON format at the key 'result' - Yes/No.    \n",
    "    Thought 1 - Output a string 'Yes' ONLY if ALL the values are correctly filled for all keys, \n",
    "    otherwise output 'No' along with the reason. \n",
    "    Thought 2 - If the answer is No, mention the reason in the key 'reason'. \n",
    "    THought 3 - If the reason is Missing keys and values, then give exact key name which is missing.\n",
    "    THought 4 - 'car category', 'transmission' and 'fuel type' MUST be in one of valid value provided above. Else, mention not in valid.\n",
    "    Thought 5 - Think carefully before the answering. Else you will be penalized.\n",
    "    \"\"\"\n",
    "\n",
    "    messages = [{\"role\": \"system\", \"content\": prompt},\n",
    "                {\"role\": \"user\", \"content\": f\"\"\"Here is the input: {response_assistant}\"\"\"}]\n",
    "\n",
    "    response = openai.chat.completions.create(\n",
    "                                    model=\"gpt-3.5-turbo\",\n",
    "                                    messages=messages,\n",
    "                                    response_format={\"type\": \"json_object\"},\n",
    "                                    seed=1234\n",
    "                                    )\n",
    "\n",
    "    json_output = json.loads(response.choices[0].message.content)\n",
    "\n",
    "    return json_output\n"
   ]
  },
  {
   "cell_type": "markdown",
   "id": "356fc469",
   "metadata": {
    "id": "356fc469"
   },
   "source": [
    "<span style=\"color:navy\">\n",
    "\n",
    "Let's apply the function to the assistant's reponse and see if it has captured the user profile."
   ]
  },
  {
   "cell_type": "code",
   "execution_count": 18,
   "id": "95f20543",
   "metadata": {},
   "outputs": [
    {
     "data": {
      "text/plain": [
       "\"Great, Shrinivas! As a car recommendation assistant, I can help you find the perfect car based on your family's needs and daily use. Could you please specify what type of car you are looking for? Are you interested in a Hatchback, Sedan, SUV, or any other type of car? This will help me understand your requirements better.\""
      ]
     },
     "execution_count": 18,
     "metadata": {},
     "output_type": "execute_result"
    }
   ],
   "source": [
    "debug_response_assistant"
   ]
  },
  {
   "cell_type": "code",
   "execution_count": 19,
   "id": "89031a63",
   "metadata": {
    "colab": {
     "base_uri": "https://localhost:8080/",
     "height": 72
    },
    "id": "89031a63",
    "outputId": "bb7b1532-e5a6-45f7-95ac-ef7ac5d9f92c"
   },
   "outputs": [
    {
     "data": {
      "text/plain": [
       "{'result': 'No',\n",
       " 'reason': 'Missing keys and values - kmpl, car category, seater, transmission, fuel type, price'}"
      ]
     },
     "metadata": {},
     "output_type": "display_data"
    }
   ],
   "source": [
    "debug_confirmation = intent_confirmation_layer(debug_response_assistant)\n",
    "display(debug_confirmation)"
   ]
  },
  {
   "cell_type": "markdown",
   "id": "4fc34f79",
   "metadata": {
    "id": "4fc34f79"
   },
   "source": [
    "<span style=\"color:navy\">\n",
    "\n",
    "Now, you can keep adding user and assistant responses to debug_conversation and get to a point where intent_confirmation_layer() gives yes as a response. Let's see if the following response by the assistant passes the intent_confirmation_layer() test."
   ]
  },
  {
   "cell_type": "code",
   "execution_count": 20,
   "id": "6823bbbf",
   "metadata": {},
   "outputs": [
    {
     "name": "stdout",
     "output_type": "stream",
     "text": [
      "Result: No \t Reason: Missing keys and values - kmpl, car category, seater, transmission, fuel type, price\n"
     ]
    }
   ],
   "source": [
    "# Printing the value for better clarity\n",
    "print(\"Result:\",debug_confirmation.get('result'),\"\\t\", \"Reason:\", debug_confirmation.get('reason'))"
   ]
  },
  {
   "cell_type": "code",
   "execution_count": 21,
   "id": "306ff7d5",
   "metadata": {},
   "outputs": [],
   "source": [
    "#Let's add the above assistant response to the debug_conversation.\n",
    "debug_conversation.append({\"role\": \"assistant\", \"content\": debug_response_assistant})"
   ]
  },
  {
   "cell_type": "markdown",
   "id": "e05526d0",
   "metadata": {
    "id": "e05526d0"
   },
   "source": [
    "<span style=\"color:navy\">\n",
    "\n",
    "\n",
    "Let's say that after a series of conversations you get the following response from the assistant."
   ]
  },
  {
   "cell_type": "code",
   "execution_count": 22,
   "id": "f567ac5d",
   "metadata": {},
   "outputs": [
    {
     "name": "stdout",
     "output_type": "stream",
     "text": [
      "\n",
      "Great, thank you for clarifying your requirements.\n",
      "Based on your inputs, here is the final profile for the car you are looking for:\n",
      "{\n",
      "        'kmpl': 20,\n",
      "        'car category': 'Compact SUV',\n",
      "        'seater': 5,\n",
      "        'transmission': 'Automatic',\n",
      "        'fuel type': 'Petrol',\n",
      "        'price': 1500000\n",
      "}\n",
      "\n",
      "Intent confirmaiton result:\n"
     ]
    },
    {
     "data": {
      "text/plain": [
       "'Yes'"
      ]
     },
     "execution_count": 22,
     "metadata": {},
     "output_type": "execute_result"
    }
   ],
   "source": [
    "# Example 1 - Let's check with the confirmation_layer if all the keys are present\n",
    "debug_response_assistant_1 = f\"\"\"\n",
    "Great, thank you for clarifying your requirements.\n",
    "Based on your inputs, here is the final profile for the car you are looking for:\n",
    "{{\n",
    "        'kmpl': 20,\n",
    "        'car category': 'Compact SUV',\n",
    "        'seater': 5,\n",
    "        'transmission': 'Automatic',\n",
    "        'fuel type': 'Petrol',\n",
    "        'price': 1500000\n",
    "}}\n",
    "\"\"\"\n",
    "#Note that you are using double curly braces\n",
    "\n",
    "print(debug_response_assistant_1)\n",
    "\n",
    "# pass the intent_confirmation_layer() test\n",
    "response = intent_confirmation_layer(debug_response_assistant_1)\n",
    "print('Intent confirmaiton result:')\n",
    "response.get('result') # Extract the result key from the dictionary"
   ]
  },
  {
   "cell_type": "code",
   "execution_count": 23,
   "id": "89c7616d",
   "metadata": {},
   "outputs": [
    {
     "name": "stdout",
     "output_type": "stream",
     "text": [
      "\n",
      "Great, thank you for clarifying your requirements.\n",
      "Based on your inputs, here is the final profile for the Car you are looking for:\n",
      "{\n",
      "        'kmpl': 13\n",
      "        'car category': 'Compact SUV',\n",
      "        'seater': 5,\n",
      "        'transmission': 'Automatic',\n",
      "        'fuel type' : 'Petrol',\n",
      "        'price': 1500000\n",
      "        \n",
      " }\n",
      "\n",
      "Iteration: 0\n",
      "{'result': 'Yes'}\n",
      "--------------------------------------------------\n",
      "Iteration: 1\n",
      "{'result': 'Yes'}\n",
      "--------------------------------------------------\n",
      "Iteration: 2\n",
      "{'result': 'Yes'}\n",
      "--------------------------------------------------\n",
      "Iteration: 3\n",
      "{'result': 'Yes'}\n",
      "--------------------------------------------------\n",
      "Iteration: 4\n",
      "{'result': 'Yes'}\n",
      "--------------------------------------------------\n",
      "Iteration: 5\n",
      "{'result': 'Yes'}\n",
      "--------------------------------------------------\n",
      "Iteration: 6\n",
      "{'result': 'Yes'}\n",
      "--------------------------------------------------\n",
      "Iteration: 7\n",
      "{'result': 'Yes'}\n",
      "--------------------------------------------------\n",
      "Iteration: 8\n",
      "{'result': 'Yes'}\n",
      "--------------------------------------------------\n",
      "Iteration: 9\n",
      "{'result': 'Yes'}\n",
      "--------------------------------------------------\n"
     ]
    }
   ],
   "source": [
    "# Example 2 - Let's check confirmation_layer if all the keys are present\n",
    "debug_response_assistant_2 = f\"\"\"\n",
    "Great, thank you for clarifying your requirements.\n",
    "Based on your inputs, here is the final profile for the Car you are looking for:\n",
    "{{\n",
    "        'kmpl': 13\n",
    "        'car category': 'Compact SUV',\n",
    "        'seater': 5,\n",
    "        'transmission': 'Automatic',\n",
    "        'fuel type' : 'Petrol',\n",
    "        'price': 1500000\n",
    "        \n",
    " }}\n",
    "\"\"\"\n",
    "#Note that you are using double curly braces\n",
    "\n",
    "print(debug_response_assistant_2)\n",
    "\n",
    "intent_confirmation_layer(debug_response_assistant_2)\n",
    "iterate_llm_response(intent_confirmation_layer, debug_response_assistant_2)"
   ]
  },
  {
   "cell_type": "markdown",
   "id": "8941aef4",
   "metadata": {
    "id": "8941aef4"
   },
   "source": [
    "<span style=\"color:navy\">\n",
    "    \n",
    "    \n",
    "Let's now explore the functionality of `dictionary_present()`.\n",
    "\n",
    "### `dictionary_present()`:\n",
    "\n",
    "This function checks whether the final understanding of the user's profile, as captured by the chatbot, is formatted as a Python dictionary. This is crucial for the subsequent matching of car options using dictionary-based matching techniques.\n"
   ]
  },
  {
   "cell_type": "code",
   "execution_count": 24,
   "id": "KjZlut6U2p_e",
   "metadata": {
    "id": "KjZlut6U2p_e"
   },
   "outputs": [],
   "source": [
    "def dictionary_present(response):\n",
    "    delimiter = \"####\"\n",
    "\n",
    "    user_req = {\n",
    "        'kmpl': 20,\n",
    "        'car category': 'Compact SUV',\n",
    "        'seater': 5,\n",
    "        'transmission': 'Automatic',\n",
    "        'fuel type': 'Petrol',\n",
    "        'price': 1500000\n",
    "    }\n",
    "\n",
    "    prompt = f\"\"\"You are a python expert. You are provided an input.\n",
    "            You have to check if there is a python dictionary present in the string.\n",
    "            It will have the following format {user_req}.\n",
    "            Your task is to just extract the relevant values from the input and return only the python dictionary in JSON format.\n",
    "            The output should match the format as {user_req}.\n",
    "\n",
    "            {delimiter}\n",
    "            Make sure that the value of 'price' is also present in the user input. ###\n",
    "            The output should contain the exact keys and values as present in the input.\n",
    "            Ensure the keys and values are in the given format:\n",
    "            {{\n",
    "            'kmpl': 'numerical value',\n",
    "            'car category': 'string',\n",
    "            'seater': 'integer',\n",
    "            'transmission': 'string',\n",
    "            'fuel type': 'string',\n",
    "            'price': 'numerical value'\n",
    "            }}\n",
    "            Here are some sample input output pairs for better understanding:\n",
    "            {delimiter}\n",
    "            input 1: - kmpl: 18 - car category: Compact SUV - seater: 5 - transmission: Automatic - fuel type: Petrol - price: 1500000\n",
    "            output 1: {{'kmpl': 18, 'car category': 'Compact SUV', 'seater': 5, 'transmission': 'Automatic', 'fuel type': 'Petrol', 'price': 1500000}}\n",
    "\n",
    "            input 2: {{'kmpl': 15, 'car category': 'Sedan', 'seater': 5, 'transmission': 'Manual', 'fuel type': 'Diesel', 'price': 1200000}}\n",
    "            output 2: {{'kmpl': 15, 'car category': 'Sedan', 'seater': 5, 'transmission': 'Manual', 'fuel type': 'Diesel', 'price': 1200000}}\n",
    "\n",
    "            input 3: Here is your user profile 'kmpl': 14, 'car category': 'Full-size SUV', 'seater': 7, 'transmission': 'Automatic', 'fuel type': 'Diesel', 'price': 3500000\n",
    "            output 3: {{'kmpl': 14, 'car category': 'Full-size SUV', 'seater': 7, 'transmission': 'Automatic', 'fuel type': 'Diesel', 'price': 3500000}}\n",
    "            {delimiter}\n",
    "            \"\"\"\n",
    "    messages = [{\"role\": \"system\", \"content\": prompt},\n",
    "                {\"role\": \"user\", \"content\": f\"\"\"Here is the user input: {response}\"\"\"}]\n",
    "\n",
    "    confirmation = get_chat_completions(messages, json_format=True)\n",
    "\n",
    "    return confirmation\n"
   ]
  },
  {
   "cell_type": "markdown",
   "id": "c95c036b",
   "metadata": {
    "id": "c95c036b"
   },
   "source": [
    "<span style=\"color:navy\">\n",
    "Now that we have the user's profile stored in `response_dict_n`, we will use it to generate car recommendations. Before that, we need to create a similar profile for each car. Let's explore how we accomplish this.\n",
    "\n",
    "## Stage 2\n",
    "    \n",
    "![Stage 2](images/stage2.png)\n",
    "\n",
    "\n",
    "### 3.3 Implementing the Product Mapping and Information Extraction Layers\n",
    "\n",
    "In this section, we process the output from previous layers—the user requirements encapsulated in a Python dictionary.\n",
    "Next, we'll extract the top 3 car recommendations based on the user's requirements.\n",
    "\n",
    "This stage includes several helper functions that facilitate the information extraction and product matching processes.\n",
    "\n",
    "### `product_map_layer()`:\n",
    "\n",
    "This function extracts key features and criteria from car descriptions. Here's how it operates:\n",
    "\n",
    "- It acts as a Car Specifications Classifier, tasked with extracting key features and classifying them based on car descriptions.\n",
    "\n",
    "- It follows step-by-step instructions for extracting car features from descriptions.\n",
    "\n",
    "- It applies specific rules for each feature (e.g., kmpl, car category, seater, transmission, fuel type, price) and associates them with the appropriate classification value.\n",
    "\n",
    "- It incorporates Few Shot Prompting (a sample conversation between the user and assistant) to demonstrate the expected outcome of the feature extraction and classification process.\n"
   ]
  },
  {
   "cell_type": "code",
   "execution_count": 25,
   "id": "240d34cc",
   "metadata": {
    "id": "240d34cc"
   },
   "outputs": [],
   "source": [
    "def product_map_layer(car_description):\n",
    "    delimiter = \"#####\"\n",
    "\n",
    "    car_spec = {\n",
    "        \"kmpl\": \"integer\",\n",
    "        \"car category\": \"string\",\n",
    "        \"seater\": \"integer\",\n",
    "        \"transmission\": \"string\",\n",
    "        \"fuel type\": \"string\",\n",
    "        \"price\": \"integer\"\n",
    "    }\n",
    "\n",
    "    prompt = f\"\"\"\n",
    "    You are a Car Specifications Classifier whose job is to extract the key features of cars and map them as per their requirements.\n",
    "    To analyze each car, perform the following steps:\n",
    "    Step 1: Extract the car's primary features from the description {car_description}\n",
    "    Step 2: Store the extracted features in {car_spec}\n",
    "    The output should be in the following JSON format:\n",
    "    {{\n",
    "        \"kmpl\": \"integer\",\n",
    "        \"car category\": \"string\",\n",
    "        \"seater\": \"integer\",\n",
    "        \"transmission\": \"string\",\n",
    "        \"fuel type\": \"string\",\n",
    "        \"price\": \"integer\"\n",
    "    }}\n",
    "    {delimiter}\n",
    "\n",
    "    {delimiter}\n",
    "    Here is an input-output pair for few-shot learning:\n",
    "    input 1: \"The Hyundai Creta is a versatile compact SUV that offers a blend of performance and efficiency. It features a 1.5L diesel engine with manual transmission, delivering 21 kmpl. The car seats 5 people comfortably and comes with a variety of modern features. Priced at 1,500,000 INR, it is a popular choice among mid-range buyers.\"\n",
    "    output 1: {{\n",
    "        \"kmpl\": 21,\n",
    "        \"car category\": \"Compact SUV\",\n",
    "        \"seater\": 5,\n",
    "        \"transmission\": \"Manual\",\n",
    "        \"fuel type\": \"Diesel\",\n",
    "        \"price\": 1500000\n",
    "    }}\n",
    "\n",
    "    {delimiter}\n",
    "    \"\"\"\n",
    "\n",
    "    input = f\"\"\"Follow the above instructions step-by-step and output the dictionary in JSON format for the following car: {car_description}.\"\"\"\n",
    "    messages = [{\"role\": \"system\", \"content\": prompt}, {\"role\": \"user\", \"content\": input}]\n",
    "\n",
    "    response = get_chat_completions(messages, json_format=True)\n",
    "\n",
    "    return response\n"
   ]
  },
  {
   "cell_type": "code",
   "execution_count": 26,
   "id": "JhrRxWNEC5Ls",
   "metadata": {
    "id": "JhrRxWNEC5Ls"
   },
   "outputs": [],
   "source": [
    "# Let's test this for one sample car description.\n",
    "car_description_1 = f\"\"\"\n",
    "The Hyundai Creta is a versatile compact SUV that offers a blend of performance and efficiency.\n",
    "It features a 1.5L diesel engine with manual transmission, delivering 21 kmpl.\n",
    "The car seats 5 people comfortably and comes with a variety of modern features.\n",
    "Priced at 1,500,000 INR, it is a popular choice among mid-range buyers.\n",
    "\"\"\"\n"
   ]
  },
  {
   "cell_type": "code",
   "execution_count": 27,
   "id": "3JiOft8JDDgv",
   "metadata": {
    "colab": {
     "base_uri": "https://localhost:8080/",
     "height": 109
    },
    "id": "3JiOft8JDDgv",
    "outputId": "c022633d-1061-423d-fb0c-d162a0b786cb"
   },
   "outputs": [
    {
     "data": {
      "text/plain": [
       "{'kmpl': 21,\n",
       " 'car category': 'Compact SUV',\n",
       " 'seater': 5,\n",
       " 'transmission': 'Manual',\n",
       " 'fuel type': 'Diesel',\n",
       " 'price': 1500000}"
      ]
     },
     "metadata": {},
     "output_type": "display_data"
    }
   ],
   "source": [
    "display(product_map_layer(car_description_1))"
   ]
  },
  {
   "cell_type": "code",
   "execution_count": 28,
   "id": "u7O5Et_aSW0_",
   "metadata": {
    "colab": {
     "base_uri": "https://localhost:8080/"
    },
    "id": "u7O5Et_aSW0_",
    "outputId": "1ba088fb-6a83-49a1-aa62-e52d13a00c79"
   },
   "outputs": [
    {
     "name": "stdout",
     "output_type": "stream",
     "text": [
      "<class 'dict'>\n"
     ]
    }
   ],
   "source": [
    "# # Data type of the output response\n",
    "print(type(product_map_layer(car_description_1)))"
   ]
  },
  {
   "cell_type": "code",
   "execution_count": 29,
   "id": "xfDgYwldSXlx",
   "metadata": {
    "colab": {
     "base_uri": "https://localhost:8080/"
    },
    "id": "xfDgYwldSXlx",
    "outputId": "fe643d95-504e-4e79-9757-e4b56379a098"
   },
   "outputs": [
    {
     "name": "stdout",
     "output_type": "stream",
     "text": [
      "Iteration: 0\n",
      "{'kmpl': 21, 'car category': 'Compact SUV', 'seater': 5, 'transmission': 'Manual', 'fuel type': 'Diesel', 'price': 1500000}\n",
      "--------------------------------------------------\n",
      "Iteration: 1\n",
      "{'kmpl': 21, 'car category': 'Compact SUV', 'seater': 5, 'transmission': 'Manual', 'fuel type': 'Diesel', 'price': 1500000}\n",
      "--------------------------------------------------\n",
      "Iteration: 2\n",
      "{'kmpl': 21, 'car category': 'Compact SUV', 'seater': 5, 'transmission': 'Manual', 'fuel type': 'Diesel', 'price': 1500000}\n",
      "--------------------------------------------------\n",
      "Iteration: 3\n",
      "{'kmpl': 21, 'car category': 'Compact SUV', 'seater': 5, 'transmission': 'Manual', 'fuel type': 'Diesel', 'price': 1500000}\n",
      "--------------------------------------------------\n",
      "Iteration: 4\n",
      "{'kmpl': 21, 'car category': 'Compact SUV', 'seater': 5, 'transmission': 'Manual', 'fuel type': 'Diesel', 'price': 1500000}\n",
      "--------------------------------------------------\n",
      "Iteration: 5\n",
      "{'kmpl': 21, 'car category': 'Compact SUV', 'seater': 5, 'transmission': 'Manual', 'fuel type': 'Diesel', 'price': 1500000}\n",
      "--------------------------------------------------\n",
      "Iteration: 6\n",
      "{'kmpl': 21, 'car category': 'Compact SUV', 'seater': 5, 'transmission': 'Manual', 'fuel type': 'Diesel', 'price': 1500000}\n",
      "--------------------------------------------------\n",
      "Iteration: 7\n",
      "{'kmpl': 21, 'car category': 'Compact SUV', 'seater': 5, 'transmission': 'Manual', 'fuel type': 'Diesel', 'price': 1500000}\n",
      "--------------------------------------------------\n",
      "Iteration: 8\n",
      "{'kmpl': 21, 'car category': 'Compact SUV', 'seater': 5, 'transmission': 'Manual', 'fuel type': 'Diesel', 'price': 1500000}\n",
      "--------------------------------------------------\n",
      "Iteration: 9\n",
      "{'kmpl': 21, 'car category': 'Compact SUV', 'seater': 5, 'transmission': 'Manual', 'fuel type': 'Diesel', 'price': 1500000}\n",
      "--------------------------------------------------\n"
     ]
    }
   ],
   "source": [
    "# # Check for consistency with iterate_response function\n",
    "iterate_llm_response(product_map_layer, car_description_1)"
   ]
  },
  {
   "cell_type": "code",
   "execution_count": 30,
   "id": "30355b9d",
   "metadata": {},
   "outputs": [
    {
     "data": {
      "text/html": [
       "<div>\n",
       "<style scoped>\n",
       "    .dataframe tbody tr th:only-of-type {\n",
       "        vertical-align: middle;\n",
       "    }\n",
       "\n",
       "    .dataframe tbody tr th {\n",
       "        vertical-align: top;\n",
       "    }\n",
       "\n",
       "    .dataframe thead th {\n",
       "        text-align: right;\n",
       "    }\n",
       "</style>\n",
       "<table border=\"1\" class=\"dataframe\">\n",
       "  <thead>\n",
       "    <tr style=\"text-align: right;\">\n",
       "      <th></th>\n",
       "      <th>car model</th>\n",
       "      <th>car category</th>\n",
       "      <th>brand name</th>\n",
       "      <th>price</th>\n",
       "      <th>engine</th>\n",
       "      <th>transmission</th>\n",
       "      <th>fuel type</th>\n",
       "      <th>kmpl</th>\n",
       "      <th>color</th>\n",
       "      <th>year</th>\n",
       "      <th>seater</th>\n",
       "      <th>carfullfeature</th>\n",
       "      <th>dealer ID</th>\n",
       "      <th>dealer name</th>\n",
       "      <th>dealer GPS</th>\n",
       "      <th>carfullfeature_extracted_dict</th>\n",
       "    </tr>\n",
       "  </thead>\n",
       "  <tbody>\n",
       "    <tr>\n",
       "      <th>0</th>\n",
       "      <td>Maruti Suzuki Swift</td>\n",
       "      <td>Hatchback</td>\n",
       "      <td>Maruti Suzuki</td>\n",
       "      <td>600000</td>\n",
       "      <td>1.2L</td>\n",
       "      <td>Manual</td>\n",
       "      <td>Petrol</td>\n",
       "      <td>23</td>\n",
       "      <td>White</td>\n",
       "      <td>2023</td>\n",
       "      <td>5</td>\n",
       "      <td>Maruti Suzuki Swift Hatchback by Maruti Suzuki priced at 600000 features a 1.2L engine Manual transmission Petrol fuel type 23 kmpl White color 5 seater manufactured in 2023</td>\n",
       "      <td>dealer_655</td>\n",
       "      <td>GH76 Carman</td>\n",
       "      <td>https://www.google.com/maps/search/?api=1&amp;query=23.918737416780342,73.96181444289348</td>\n",
       "      <td>{'kmpl': 23, 'car category': 'Hatchback', 'seater': 5, 'transmission': 'Manual', 'fuel type': 'Petrol', 'price': 600000}</td>\n",
       "    </tr>\n",
       "    <tr>\n",
       "      <th>1</th>\n",
       "      <td>Hyundai Creta</td>\n",
       "      <td>Compact SUV</td>\n",
       "      <td>Hyundai</td>\n",
       "      <td>1500000</td>\n",
       "      <td>1.5L</td>\n",
       "      <td>Manual</td>\n",
       "      <td>Diesel</td>\n",
       "      <td>21</td>\n",
       "      <td>Black</td>\n",
       "      <td>2022</td>\n",
       "      <td>5</td>\n",
       "      <td>Hyundai Creta Compact SUV by Hyundai priced at 1500000 features a 1.5L engine Manual transmission Diesel fuel type 21 kmpl Black color 5 seater manufactured in 2022</td>\n",
       "      <td>dealer_115</td>\n",
       "      <td>GH76 Carman</td>\n",
       "      <td>https://www.google.com/maps/search/?api=1&amp;query=13.85018340757684,90.84590677272028</td>\n",
       "      <td>{'kmpl': 21, 'car category': 'Compact SUV', 'seater': 5, 'transmission': 'Manual', 'fuel type': 'Diesel', 'price': 1500000}</td>\n",
       "    </tr>\n",
       "    <tr>\n",
       "      <th>2</th>\n",
       "      <td>Tata Nexon</td>\n",
       "      <td>Compact SUV</td>\n",
       "      <td>Tata Motors</td>\n",
       "      <td>1200000</td>\n",
       "      <td>1.2L Turbo</td>\n",
       "      <td>Automatic</td>\n",
       "      <td>Petrol</td>\n",
       "      <td>22</td>\n",
       "      <td>Blue</td>\n",
       "      <td>2023</td>\n",
       "      <td>5</td>\n",
       "      <td>Tata Nexon Compact SUV by Tata Motors priced at 1200000 features a 1.2L Turbo engine Automatic transmission Petrol fuel type 22 kmpl Blue color 5 seater manufactured in 2023</td>\n",
       "      <td>dealer_26</td>\n",
       "      <td>XXY Carzone</td>\n",
       "      <td>https://www.google.com/maps/search/?api=1&amp;query=27.852574888515168,85.50792442017404</td>\n",
       "      <td>{'kmpl': 22, 'car category': 'Compact SUV', 'seater': 5, 'transmission': 'Automatic', 'fuel type': 'Petrol', 'price': 1200000}</td>\n",
       "    </tr>\n",
       "    <tr>\n",
       "      <th>3</th>\n",
       "      <td>Mahindra Thar</td>\n",
       "      <td>Off-road SUV</td>\n",
       "      <td>Mahindra</td>\n",
       "      <td>1600000</td>\n",
       "      <td>2.0L Turbo</td>\n",
       "      <td>Manual</td>\n",
       "      <td>Petrol</td>\n",
       "      <td>15</td>\n",
       "      <td>Red</td>\n",
       "      <td>2022</td>\n",
       "      <td>4</td>\n",
       "      <td>Mahindra Thar Off-road SUV by Mahindra priced at 1600000 features a 2.0L Turbo engine Manual transmission Petrol fuel type 15 kmpl Red color 4 seater manufactured in 2022</td>\n",
       "      <td>dealer_760</td>\n",
       "      <td>GH76 Carman</td>\n",
       "      <td>https://www.google.com/maps/search/?api=1&amp;query=10.548175226037047,71.31375170161495</td>\n",
       "      <td>{'kmpl': 15, 'car category': 'Off-road SUV', 'seater': 4, 'transmission': 'Manual', 'fuel type': 'Petrol', 'price': 1600000}</td>\n",
       "    </tr>\n",
       "    <tr>\n",
       "      <th>4</th>\n",
       "      <td>Kia Seltos</td>\n",
       "      <td>Compact SUV</td>\n",
       "      <td>Kia</td>\n",
       "      <td>1400000</td>\n",
       "      <td>1.5L</td>\n",
       "      <td>Manual</td>\n",
       "      <td>Diesel</td>\n",
       "      <td>20</td>\n",
       "      <td>Silver</td>\n",
       "      <td>2023</td>\n",
       "      <td>5</td>\n",
       "      <td>Kia Seltos Compact SUV by Kia priced at 1400000 features a 1.5L engine Manual transmission Diesel fuel type 20 kmpl Silver color 5 seater manufactured in 2023</td>\n",
       "      <td>dealer_282</td>\n",
       "      <td>GH76 Carman</td>\n",
       "      <td>https://www.google.com/maps/search/?api=1&amp;query=12.025918429818592,80.0206329419052</td>\n",
       "      <td>{'kmpl': 20, 'car category': 'Compact SUV', 'seater': 5, 'transmission': 'Manual', 'fuel type': 'Diesel', 'price': 1400000}</td>\n",
       "    </tr>\n",
       "    <tr>\n",
       "      <th>5</th>\n",
       "      <td>Honda City</td>\n",
       "      <td>Sedan</td>\n",
       "      <td>Honda</td>\n",
       "      <td>1200000</td>\n",
       "      <td>1.5L</td>\n",
       "      <td>Manual</td>\n",
       "      <td>Petrol</td>\n",
       "      <td>17</td>\n",
       "      <td>Black</td>\n",
       "      <td>2023</td>\n",
       "      <td>5</td>\n",
       "      <td>Honda City Sedan by Honda priced at 1200000 features a 1.5L engine Manual transmission Petrol fuel type 17 kmpl Black color 5 seater manufactured in 2023</td>\n",
       "      <td>dealer_251</td>\n",
       "      <td>MNY Cars</td>\n",
       "      <td>https://www.google.com/maps/search/?api=1&amp;query=8.078616083015561,93.04202607777574</td>\n",
       "      <td>{'kmpl': 17, 'car category': 'Sedan', 'seater': 5, 'transmission': 'Manual', 'fuel type': 'Petrol', 'price': 1200000}</td>\n",
       "    </tr>\n",
       "  </tbody>\n",
       "</table>\n",
       "</div>"
      ],
      "text/plain": [
       "             car model  car category     brand name    price      engine transmission fuel type  \\\n",
       "0  Maruti Suzuki Swift     Hatchback  Maruti Suzuki   600000        1.2L       Manual    Petrol   \n",
       "1        Hyundai Creta   Compact SUV        Hyundai  1500000        1.5L       Manual    Diesel   \n",
       "2           Tata Nexon   Compact SUV    Tata Motors  1200000  1.2L Turbo    Automatic    Petrol   \n",
       "3        Mahindra Thar  Off-road SUV       Mahindra  1600000  2.0L Turbo       Manual    Petrol   \n",
       "4           Kia Seltos   Compact SUV            Kia  1400000        1.5L       Manual    Diesel   \n",
       "5           Honda City         Sedan          Honda  1200000        1.5L       Manual    Petrol   \n",
       "\n",
       "   kmpl   color  year  seater  \\\n",
       "0    23   White  2023       5   \n",
       "1    21   Black  2022       5   \n",
       "2    22    Blue  2023       5   \n",
       "3    15     Red  2022       4   \n",
       "4    20  Silver  2023       5   \n",
       "5    17   Black  2023       5   \n",
       "\n",
       "                                                                                                                                                                  carfullfeature  \\\n",
       "0  Maruti Suzuki Swift Hatchback by Maruti Suzuki priced at 600000 features a 1.2L engine Manual transmission Petrol fuel type 23 kmpl White color 5 seater manufactured in 2023   \n",
       "1           Hyundai Creta Compact SUV by Hyundai priced at 1500000 features a 1.5L engine Manual transmission Diesel fuel type 21 kmpl Black color 5 seater manufactured in 2022   \n",
       "2  Tata Nexon Compact SUV by Tata Motors priced at 1200000 features a 1.2L Turbo engine Automatic transmission Petrol fuel type 22 kmpl Blue color 5 seater manufactured in 2023   \n",
       "3     Mahindra Thar Off-road SUV by Mahindra priced at 1600000 features a 2.0L Turbo engine Manual transmission Petrol fuel type 15 kmpl Red color 4 seater manufactured in 2022   \n",
       "4                 Kia Seltos Compact SUV by Kia priced at 1400000 features a 1.5L engine Manual transmission Diesel fuel type 20 kmpl Silver color 5 seater manufactured in 2023   \n",
       "5                      Honda City Sedan by Honda priced at 1200000 features a 1.5L engine Manual transmission Petrol fuel type 17 kmpl Black color 5 seater manufactured in 2023   \n",
       "\n",
       "    dealer ID  dealer name  \\\n",
       "0  dealer_655  GH76 Carman   \n",
       "1  dealer_115  GH76 Carman   \n",
       "2   dealer_26  XXY Carzone   \n",
       "3  dealer_760  GH76 Carman   \n",
       "4  dealer_282  GH76 Carman   \n",
       "5  dealer_251     MNY Cars   \n",
       "\n",
       "                                                                             dealer GPS  \\\n",
       "0  https://www.google.com/maps/search/?api=1&query=23.918737416780342,73.96181444289348   \n",
       "1   https://www.google.com/maps/search/?api=1&query=13.85018340757684,90.84590677272028   \n",
       "2  https://www.google.com/maps/search/?api=1&query=27.852574888515168,85.50792442017404   \n",
       "3  https://www.google.com/maps/search/?api=1&query=10.548175226037047,71.31375170161495   \n",
       "4   https://www.google.com/maps/search/?api=1&query=12.025918429818592,80.0206329419052   \n",
       "5   https://www.google.com/maps/search/?api=1&query=8.078616083015561,93.04202607777574   \n",
       "\n",
       "                                                                                                    carfullfeature_extracted_dict  \n",
       "0        {'kmpl': 23, 'car category': 'Hatchback', 'seater': 5, 'transmission': 'Manual', 'fuel type': 'Petrol', 'price': 600000}  \n",
       "1     {'kmpl': 21, 'car category': 'Compact SUV', 'seater': 5, 'transmission': 'Manual', 'fuel type': 'Diesel', 'price': 1500000}  \n",
       "2  {'kmpl': 22, 'car category': 'Compact SUV', 'seater': 5, 'transmission': 'Automatic', 'fuel type': 'Petrol', 'price': 1200000}  \n",
       "3    {'kmpl': 15, 'car category': 'Off-road SUV', 'seater': 4, 'transmission': 'Manual', 'fuel type': 'Petrol', 'price': 1600000}  \n",
       "4     {'kmpl': 20, 'car category': 'Compact SUV', 'seater': 5, 'transmission': 'Manual', 'fuel type': 'Diesel', 'price': 1400000}  \n",
       "5           {'kmpl': 17, 'car category': 'Sedan', 'seater': 5, 'transmission': 'Manual', 'fuel type': 'Petrol', 'price': 1200000}  "
      ]
     },
     "execution_count": 30,
     "metadata": {},
     "output_type": "execute_result"
    }
   ],
   "source": [
    "##Run this code once to extract product info in the form of a dictionary\n",
    "car_df= pd.read_csv('data/car_data_desc_with_gps.csv')\n",
    "\n",
    "## Create a new column \"car_feature\" that contains the dictionary of the product features\n",
    "car_df['carfullfeature_extracted_dict'] = car_df['carfullfeature'].apply(lambda x: product_map_layer(x))\n",
    "\n",
    "car_df.to_csv(\"data/car_data_desc_with_gps_dict_extd.csv\",index=False,header = True)\n",
    "\n",
    "car_df_updt = pd.read_csv('data/car_data_desc_with_gps_dict_extd.csv')\n",
    "pd.set_option('display.max_colwidth', None)\n",
    "car_df_updt.head(6)"
   ]
  },
  {
   "cell_type": "markdown",
   "id": "3141b150",
   "metadata": {
    "id": "3141b150"
   },
   "source": [
    "<span style=\"color:navy\">\n",
    "    \n",
    "    \n",
    "### `compare_cars_with_user()`:\n",
    "\n",
    "This function compares the user's profile with various cars to determine the top recommendations. Here's the process it follows:\n",
    "    - It takes the user requirements dictionary as input.\n",
    "    - Filters the cars based on their price, keeping only those within the user's budget.\n",
    "    - Calculates a score for each car based on how well it matches the user's requirements.\n",
    "    - Sorts the cars based on their scores in descending order.\n",
    "    - Returns the top 3 cars as a JSON-formatted string."
   ]
  },
  {
   "cell_type": "code",
   "execution_count": 31,
   "id": "ZqKvUdFkcPXF",
   "metadata": {
    "id": "ZqKvUdFkcPXF"
   },
   "outputs": [],
   "source": [
    "def compare_cars_with_user(user_requirements):\n",
    "    car_df = pd.read_csv('data/car_data_desc_with_gps_dict_extd.csv')\n",
    "\n",
    "    # Ensure that 'price' in user_requirements is an integer and filter cars within user's budget\n",
    "    budget = int(user_requirements['price'])\n",
    "    lower_bound = budget * 0.8  # Setting lower bound to 80% of the budget\n",
    "    car_df['price'] = car_df['price'].astype(int)\n",
    "    filtered_cars = car_df[(car_df['price'] >= lower_bound) & (car_df['price'] <= budget)].copy()\n",
    "\n",
    "    # Initialize a score column in the DataFrame\n",
    "    filtered_cars['Score'] = 0\n",
    "\n",
    "    # Iterate through each car and calculate compatibility score\n",
    "    for index, row in filtered_cars.iterrows():\n",
    "        score = 0\n",
    "        # Convert 'carfullfeature_extracted_dict' from a JSON string to a dictionary\n",
    "        car_features = json.loads(row['carfullfeature_extracted_dict'].replace(\"'\", '\"'))\n",
    "\n",
    "        # Check each feature for match or close match\n",
    "        for key, user_value in user_requirements.items():\n",
    "            if key == 'price':  # Price should be less than or equal to user requirement and not less than 90% of it\n",
    "                score += (car_features.get(key) <= budget and car_features.get(key) >= lower_bound)\n",
    "            elif key in ['seater', 'kmpl']:  # seater and kmpl should be greater than or equal to user requirement\n",
    "                score += (car_features.get(key) >= user_value)\n",
    "            else:  # Check for categorical matches\n",
    "                score += (car_features.get(key) == user_value)\n",
    "\n",
    "        # Update the DataFrame with the score\n",
    "        filtered_cars.loc[index, 'Score'] = score\n",
    "\n",
    "    # Sort by score in descending order and select the top 3 cars\n",
    "    top_cars = filtered_cars.sort_values('Score', ascending=False).head(3)\n",
    "    top_cars_json = top_cars.to_json(orient='records')  # Convert to JSON format\n",
    "\n",
    "    return top_cars_json"
   ]
  },
  {
   "cell_type": "markdown",
   "id": "e1faebdc",
   "metadata": {
    "id": "e1faebdc"
   },
   "source": [
    "<span style=\"color:navy\">\n",
    "    \n",
    "Now that the `compare_cars_with_user()` function is ready, let's pass the `response_dict_n` to the function to retrieve the top 3 car recommendations.\n"
   ]
  },
  {
   "cell_type": "code",
   "execution_count": 32,
   "id": "9a7b6ad3",
   "metadata": {},
   "outputs": [
    {
     "data": {
      "text/plain": [
       "{'kmpl': 21,\n",
       " 'car category': 'Compact SUV',\n",
       " 'seater': 5,\n",
       " 'transmission': 'Manual',\n",
       " 'fuel type': 'Diesel',\n",
       " 'price': 1500000}"
      ]
     },
     "metadata": {},
     "output_type": "display_data"
    },
    {
     "data": {
      "text/plain": [
       "'[{\"car model\":\"Hyundai Creta\",\"car category\":\"Compact SUV\",\"brand name\":\"Hyundai\",\"price\":1500000,\"engine\":\"1.5L\",\"transmission\":\"Manual\",\"fuel type\":\"Diesel\",\"kmpl\":21,\"color\":\"Black\",\"year\":2022,\"seater\":5,\"carfullfeature\":\"Hyundai Creta Compact SUV by Hyundai priced at 1500000 features a 1.5L engine Manual transmission Diesel fuel type 21 kmpl Black color 5 seater manufactured in 2022\",\"dealer ID\":\"dealer_115\",\"dealer name\":\"GH76 Carman\",\"dealer GPS\":\"https:\\\\/\\\\/www.google.com\\\\/maps\\\\/search\\\\/?api=1&query=13.85018340757684,90.84590677272028\",\"carfullfeature_extracted_dict\":\"{\\'kmpl\\': 21, \\'car category\\': \\'Compact SUV\\', \\'seater\\': 5, \\'transmission\\': \\'Manual\\', \\'fuel type\\': \\'Diesel\\', \\'price\\': 1500000}\",\"Score\":6},{\"car model\":\"Kia Seltos\",\"car category\":\"Compact SUV\",\"brand name\":\"Kia\",\"price\":1400000,\"engine\":\"1.5L\",\"transmission\":\"Manual\",\"fuel type\":\"Diesel\",\"kmpl\":20,\"color\":\"Silver\",\"year\":2023,\"seater\":5,\"carfullfeature\":\"Kia Seltos Compact SUV by Kia priced at 1400000 features a 1.5L engine Manual transmission Diesel fuel type 20 kmpl Silver color 5 seater manufactured in 2023\",\"dealer ID\":\"dealer_282\",\"dealer name\":\"GH76 Carman\",\"dealer GPS\":\"https:\\\\/\\\\/www.google.com\\\\/maps\\\\/search\\\\/?api=1&query=12.025918429818592,80.0206329419052\",\"carfullfeature_extracted_dict\":\"{\\'kmpl\\': 20, \\'car category\\': \\'Compact SUV\\', \\'seater\\': 5, \\'transmission\\': \\'Manual\\', \\'fuel type\\': \\'Diesel\\', \\'price\\': 1400000}\",\"Score\":5},{\"car model\":\"Nissan Terrano\",\"car category\":\"Compact SUV\",\"brand name\":\"Nissan\",\"price\":1200000,\"engine\":\"1.5L\",\"transmission\":\"Manual\",\"fuel type\":\"Diesel\",\"kmpl\":19,\"color\":\"Blue\",\"year\":2022,\"seater\":5,\"carfullfeature\":\"Nissan Terrano Compact SUV by Nissan priced at 1200000 features a 1.5L engine Manual transmission Diesel fuel type 19 kmpl Blue color 5 seater manufactured in 2022\",\"dealer ID\":\"dealer_221\",\"dealer name\":\"MNY Cars\",\"dealer GPS\":\"https:\\\\/\\\\/www.google.com\\\\/maps\\\\/search\\\\/?api=1&query=17.651657791462043,70.98646290060815\",\"carfullfeature_extracted_dict\":\"{\\'kmpl\\': 19, \\'car category\\': \\'Compact SUV\\', \\'seater\\': 5, \\'transmission\\': \\'Manual\\', \\'fuel type\\': \\'Diesel\\', \\'price\\': 1200000}\",\"Score\":5}]'"
      ]
     },
     "metadata": {},
     "output_type": "display_data"
    }
   ],
   "source": [
    "debug_response_assistant_n = \"\"\"\n",
    "{'kmpl': 21,\n",
    " 'car category': 'Compact SUV',\n",
    " 'seater': 5,\n",
    " 'transmission': 'Manual',\n",
    " 'fuel type': 'Diesel',\n",
    " 'price': 1500000}\n",
    "\"\"\"\n",
    "\n",
    "response_dict_n = dictionary_present(debug_response_assistant_n)\n",
    "display(response_dict_n)\n",
    "\n",
    "top_3_cars = compare_cars_with_user(response_dict_n)\n",
    "display(top_3_cars)"
   ]
  },
  {
   "cell_type": "code",
   "execution_count": 33,
   "id": "6add9fb3",
   "metadata": {},
   "outputs": [
    {
     "data": {
      "text/plain": [
       "[{'car model': 'Hyundai Creta',\n",
       "  'car category': 'Compact SUV',\n",
       "  'brand name': 'Hyundai',\n",
       "  'price': 1500000,\n",
       "  'engine': '1.5L',\n",
       "  'transmission': 'Manual',\n",
       "  'fuel type': 'Diesel',\n",
       "  'kmpl': 21,\n",
       "  'color': 'Black',\n",
       "  'year': 2022,\n",
       "  'seater': 5,\n",
       "  'carfullfeature': 'Hyundai Creta Compact SUV by Hyundai priced at 1500000 features a 1.5L engine Manual transmission Diesel fuel type 21 kmpl Black color 5 seater manufactured in 2022',\n",
       "  'dealer ID': 'dealer_115',\n",
       "  'dealer name': 'GH76 Carman',\n",
       "  'dealer GPS': 'https://www.google.com/maps/search/?api=1&query=13.85018340757684,90.84590677272028',\n",
       "  'carfullfeature_extracted_dict': \"{'kmpl': 21, 'car category': 'Compact SUV', 'seater': 5, 'transmission': 'Manual', 'fuel type': 'Diesel', 'price': 1500000}\",\n",
       "  'Score': 6},\n",
       " {'car model': 'Kia Seltos',\n",
       "  'car category': 'Compact SUV',\n",
       "  'brand name': 'Kia',\n",
       "  'price': 1400000,\n",
       "  'engine': '1.5L',\n",
       "  'transmission': 'Manual',\n",
       "  'fuel type': 'Diesel',\n",
       "  'kmpl': 20,\n",
       "  'color': 'Silver',\n",
       "  'year': 2023,\n",
       "  'seater': 5,\n",
       "  'carfullfeature': 'Kia Seltos Compact SUV by Kia priced at 1400000 features a 1.5L engine Manual transmission Diesel fuel type 20 kmpl Silver color 5 seater manufactured in 2023',\n",
       "  'dealer ID': 'dealer_282',\n",
       "  'dealer name': 'GH76 Carman',\n",
       "  'dealer GPS': 'https://www.google.com/maps/search/?api=1&query=12.025918429818592,80.0206329419052',\n",
       "  'carfullfeature_extracted_dict': \"{'kmpl': 20, 'car category': 'Compact SUV', 'seater': 5, 'transmission': 'Manual', 'fuel type': 'Diesel', 'price': 1400000}\",\n",
       "  'Score': 5},\n",
       " {'car model': 'Nissan Terrano',\n",
       "  'car category': 'Compact SUV',\n",
       "  'brand name': 'Nissan',\n",
       "  'price': 1200000,\n",
       "  'engine': '1.5L',\n",
       "  'transmission': 'Manual',\n",
       "  'fuel type': 'Diesel',\n",
       "  'kmpl': 19,\n",
       "  'color': 'Blue',\n",
       "  'year': 2022,\n",
       "  'seater': 5,\n",
       "  'carfullfeature': 'Nissan Terrano Compact SUV by Nissan priced at 1200000 features a 1.5L engine Manual transmission Diesel fuel type 19 kmpl Blue color 5 seater manufactured in 2022',\n",
       "  'dealer ID': 'dealer_221',\n",
       "  'dealer name': 'MNY Cars',\n",
       "  'dealer GPS': 'https://www.google.com/maps/search/?api=1&query=17.651657791462043,70.98646290060815',\n",
       "  'carfullfeature_extracted_dict': \"{'kmpl': 19, 'car category': 'Compact SUV', 'seater': 5, 'transmission': 'Manual', 'fuel type': 'Diesel', 'price': 1200000}\",\n",
       "  'Score': 5}]"
      ]
     },
     "execution_count": 33,
     "metadata": {},
     "output_type": "execute_result"
    }
   ],
   "source": [
    "# Get output in JSON Format\n",
    "top_3_car_json = json.loads(top_3_cars)\n",
    "top_3_car_json"
   ]
  },
  {
   "cell_type": "code",
   "execution_count": 34,
   "id": "dac4c93a",
   "metadata": {},
   "outputs": [
    {
     "data": {
      "text/html": [
       "<div>\n",
       "<style scoped>\n",
       "    .dataframe tbody tr th:only-of-type {\n",
       "        vertical-align: middle;\n",
       "    }\n",
       "\n",
       "    .dataframe tbody tr th {\n",
       "        vertical-align: top;\n",
       "    }\n",
       "\n",
       "    .dataframe thead th {\n",
       "        text-align: right;\n",
       "    }\n",
       "</style>\n",
       "<table border=\"1\" class=\"dataframe\">\n",
       "  <thead>\n",
       "    <tr style=\"text-align: right;\">\n",
       "      <th></th>\n",
       "      <th>0</th>\n",
       "    </tr>\n",
       "  </thead>\n",
       "  <tbody>\n",
       "    <tr>\n",
       "      <th>0</th>\n",
       "      <td>{'car model': 'Hyundai Creta', 'car category': 'Compact SUV', 'brand name': 'Hyundai', 'price': 1500000, 'engine': '1.5L', 'transmission': 'Manual', 'fuel type': 'Diesel', 'kmpl': 21, 'color': 'Black', 'year': 2022, 'seater': 5, 'carfullfeature': 'Hyundai Creta Compact SUV by Hyundai priced at 1500000 features a 1.5L engine Manual transmission Diesel fuel type 21 kmpl Black color 5 seater manufactured in 2022', 'dealer ID': 'dealer_115', 'dealer name': 'GH76 Carman', 'dealer GPS': 'https://www.google.com/maps/search/?api=1&amp;query=13.85018340757684,90.84590677272028', 'carfullfeature_extracted_dict': '{'kmpl': 21, 'car category': 'Compact SUV', 'seater': 5, 'transmission': 'Manual', 'fuel type': 'Diesel', 'price': 1500000}', 'Score': 6}</td>\n",
       "    </tr>\n",
       "    <tr>\n",
       "      <th>1</th>\n",
       "      <td>{'car model': 'Kia Seltos', 'car category': 'Compact SUV', 'brand name': 'Kia', 'price': 1400000, 'engine': '1.5L', 'transmission': 'Manual', 'fuel type': 'Diesel', 'kmpl': 20, 'color': 'Silver', 'year': 2023, 'seater': 5, 'carfullfeature': 'Kia Seltos Compact SUV by Kia priced at 1400000 features a 1.5L engine Manual transmission Diesel fuel type 20 kmpl Silver color 5 seater manufactured in 2023', 'dealer ID': 'dealer_282', 'dealer name': 'GH76 Carman', 'dealer GPS': 'https://www.google.com/maps/search/?api=1&amp;query=12.025918429818592,80.0206329419052', 'carfullfeature_extracted_dict': '{'kmpl': 20, 'car category': 'Compact SUV', 'seater': 5, 'transmission': 'Manual', 'fuel type': 'Diesel', 'price': 1400000}', 'Score': 5}</td>\n",
       "    </tr>\n",
       "    <tr>\n",
       "      <th>2</th>\n",
       "      <td>{'car model': 'Nissan Terrano', 'car category': 'Compact SUV', 'brand name': 'Nissan', 'price': 1200000, 'engine': '1.5L', 'transmission': 'Manual', 'fuel type': 'Diesel', 'kmpl': 19, 'color': 'Blue', 'year': 2022, 'seater': 5, 'carfullfeature': 'Nissan Terrano Compact SUV by Nissan priced at 1200000 features a 1.5L engine Manual transmission Diesel fuel type 19 kmpl Blue color 5 seater manufactured in 2022', 'dealer ID': 'dealer_221', 'dealer name': 'MNY Cars', 'dealer GPS': 'https://www.google.com/maps/search/?api=1&amp;query=17.651657791462043,70.98646290060815', 'carfullfeature_extracted_dict': '{'kmpl': 19, 'car category': 'Compact SUV', 'seater': 5, 'transmission': 'Manual', 'fuel type': 'Diesel', 'price': 1200000}', 'Score': 5}</td>\n",
       "    </tr>\n",
       "  </tbody>\n",
       "</table>\n",
       "</div>"
      ],
      "text/plain": [
       "                                                                                                                                                                                                                                                                                                                                                                                                                                                                                                                                                                                                                                                                                                                                                                          0\n",
       "0  {'car model': 'Hyundai Creta', 'car category': 'Compact SUV', 'brand name': 'Hyundai', 'price': 1500000, 'engine': '1.5L', 'transmission': 'Manual', 'fuel type': 'Diesel', 'kmpl': 21, 'color': 'Black', 'year': 2022, 'seater': 5, 'carfullfeature': 'Hyundai Creta Compact SUV by Hyundai priced at 1500000 features a 1.5L engine Manual transmission Diesel fuel type 21 kmpl Black color 5 seater manufactured in 2022', 'dealer ID': 'dealer_115', 'dealer name': 'GH76 Carman', 'dealer GPS': 'https://www.google.com/maps/search/?api=1&query=13.85018340757684,90.84590677272028', 'carfullfeature_extracted_dict': '{'kmpl': 21, 'car category': 'Compact SUV', 'seater': 5, 'transmission': 'Manual', 'fuel type': 'Diesel', 'price': 1500000}', 'Score': 6}\n",
       "1              {'car model': 'Kia Seltos', 'car category': 'Compact SUV', 'brand name': 'Kia', 'price': 1400000, 'engine': '1.5L', 'transmission': 'Manual', 'fuel type': 'Diesel', 'kmpl': 20, 'color': 'Silver', 'year': 2023, 'seater': 5, 'carfullfeature': 'Kia Seltos Compact SUV by Kia priced at 1400000 features a 1.5L engine Manual transmission Diesel fuel type 20 kmpl Silver color 5 seater manufactured in 2023', 'dealer ID': 'dealer_282', 'dealer name': 'GH76 Carman', 'dealer GPS': 'https://www.google.com/maps/search/?api=1&query=12.025918429818592,80.0206329419052', 'carfullfeature_extracted_dict': '{'kmpl': 20, 'car category': 'Compact SUV', 'seater': 5, 'transmission': 'Manual', 'fuel type': 'Diesel', 'price': 1400000}', 'Score': 5}\n",
       "2      {'car model': 'Nissan Terrano', 'car category': 'Compact SUV', 'brand name': 'Nissan', 'price': 1200000, 'engine': '1.5L', 'transmission': 'Manual', 'fuel type': 'Diesel', 'kmpl': 19, 'color': 'Blue', 'year': 2022, 'seater': 5, 'carfullfeature': 'Nissan Terrano Compact SUV by Nissan priced at 1200000 features a 1.5L engine Manual transmission Diesel fuel type 19 kmpl Blue color 5 seater manufactured in 2022', 'dealer ID': 'dealer_221', 'dealer name': 'MNY Cars', 'dealer GPS': 'https://www.google.com/maps/search/?api=1&query=17.651657791462043,70.98646290060815', 'carfullfeature_extracted_dict': '{'kmpl': 19, 'car category': 'Compact SUV', 'seater': 5, 'transmission': 'Manual', 'fuel type': 'Diesel', 'price': 1200000}', 'Score': 5}"
      ]
     },
     "metadata": {},
     "output_type": "display_data"
    }
   ],
   "source": [
    "pd.set_option('display.max_colwidth', None)\n",
    "\n",
    "display(pd.DataFrame([top_3_car_json]).T)"
   ]
  },
  {
   "cell_type": "markdown",
   "id": "U23YCuEhv3tH",
   "metadata": {
    "id": "U23YCuEhv3tH"
   },
   "source": [
    "<span style=\"color:navy\">\n",
    "    \n",
    "    \n",
    "### `product_validation_layer()`:\n",
    "\n",
    "This function ensures that the car recommendations meet the user's expectations, have a score greater than 2, and align well with the user's specified requirements.\n"
   ]
  },
  {
   "cell_type": "code",
   "execution_count": 35,
   "id": "a0d6dd68",
   "metadata": {
    "id": "a0d6dd68"
   },
   "outputs": [],
   "source": [
    "def recommendation_validation(car_recommendation):\n",
    "    # Parse the JSON string into a Python list of dictionaries\n",
    "    data = json.loads(car_recommendation)\n",
    "    \n",
    "    # Initialize an empty list to store valid recommendations\n",
    "    valid_recommendations = []\n",
    "    \n",
    "    # Iterate through each car recommendation\n",
    "    for car in data:\n",
    "        # Check if the car's score is greater than 2\n",
    "        if car['Score'] > 2:\n",
    "            # If the condition is met, add the car to the valid recommendations list\n",
    "            valid_recommendations.append(car)\n",
    "    \n",
    "    # Return the list of valid recommendations\n",
    "    return valid_recommendations"
   ]
  },
  {
   "cell_type": "code",
   "execution_count": 36,
   "id": "c22c6b76",
   "metadata": {
    "colab": {
     "base_uri": "https://localhost:8080/",
     "height": 1000
    },
    "id": "c22c6b76",
    "outputId": "cbfd4273-804c-4704-dc8b-0e55eaef21e4",
    "scrolled": true
   },
   "outputs": [
    {
     "data": {
      "text/plain": [
       "[{'car model': 'Hyundai Creta',\n",
       "  'car category': 'Compact SUV',\n",
       "  'brand name': 'Hyundai',\n",
       "  'price': 1500000,\n",
       "  'engine': '1.5L',\n",
       "  'transmission': 'Manual',\n",
       "  'fuel type': 'Diesel',\n",
       "  'kmpl': 21,\n",
       "  'color': 'Black',\n",
       "  'year': 2022,\n",
       "  'seater': 5,\n",
       "  'carfullfeature': 'Hyundai Creta Compact SUV by Hyundai priced at 1500000 features a 1.5L engine Manual transmission Diesel fuel type 21 kmpl Black color 5 seater manufactured in 2022',\n",
       "  'dealer ID': 'dealer_115',\n",
       "  'dealer name': 'GH76 Carman',\n",
       "  'dealer GPS': 'https://www.google.com/maps/search/?api=1&query=13.85018340757684,90.84590677272028',\n",
       "  'carfullfeature_extracted_dict': \"{'kmpl': 21, 'car category': 'Compact SUV', 'seater': 5, 'transmission': 'Manual', 'fuel type': 'Diesel', 'price': 1500000}\",\n",
       "  'Score': 6},\n",
       " {'car model': 'Kia Seltos',\n",
       "  'car category': 'Compact SUV',\n",
       "  'brand name': 'Kia',\n",
       "  'price': 1400000,\n",
       "  'engine': '1.5L',\n",
       "  'transmission': 'Manual',\n",
       "  'fuel type': 'Diesel',\n",
       "  'kmpl': 20,\n",
       "  'color': 'Silver',\n",
       "  'year': 2023,\n",
       "  'seater': 5,\n",
       "  'carfullfeature': 'Kia Seltos Compact SUV by Kia priced at 1400000 features a 1.5L engine Manual transmission Diesel fuel type 20 kmpl Silver color 5 seater manufactured in 2023',\n",
       "  'dealer ID': 'dealer_282',\n",
       "  'dealer name': 'GH76 Carman',\n",
       "  'dealer GPS': 'https://www.google.com/maps/search/?api=1&query=12.025918429818592,80.0206329419052',\n",
       "  'carfullfeature_extracted_dict': \"{'kmpl': 20, 'car category': 'Compact SUV', 'seater': 5, 'transmission': 'Manual', 'fuel type': 'Diesel', 'price': 1400000}\",\n",
       "  'Score': 5},\n",
       " {'car model': 'Nissan Terrano',\n",
       "  'car category': 'Compact SUV',\n",
       "  'brand name': 'Nissan',\n",
       "  'price': 1200000,\n",
       "  'engine': '1.5L',\n",
       "  'transmission': 'Manual',\n",
       "  'fuel type': 'Diesel',\n",
       "  'kmpl': 19,\n",
       "  'color': 'Blue',\n",
       "  'year': 2022,\n",
       "  'seater': 5,\n",
       "  'carfullfeature': 'Nissan Terrano Compact SUV by Nissan priced at 1200000 features a 1.5L engine Manual transmission Diesel fuel type 19 kmpl Blue color 5 seater manufactured in 2022',\n",
       "  'dealer ID': 'dealer_221',\n",
       "  'dealer name': 'MNY Cars',\n",
       "  'dealer GPS': 'https://www.google.com/maps/search/?api=1&query=17.651657791462043,70.98646290060815',\n",
       "  'carfullfeature_extracted_dict': \"{'kmpl': 19, 'car category': 'Compact SUV', 'seater': 5, 'transmission': 'Manual', 'fuel type': 'Diesel', 'price': 1200000}\",\n",
       "  'Score': 5}]"
      ]
     },
     "metadata": {},
     "output_type": "display_data"
    },
    {
     "data": {
      "text/plain": [
       "'\\n'"
      ]
     },
     "metadata": {},
     "output_type": "display_data"
    }
   ],
   "source": [
    "validated_data = recommendation_validation(top_3_cars)\n",
    "display(validated_data,'\\n')"
   ]
  },
  {
   "cell_type": "markdown",
   "id": "kRBzXIcrea7Y",
   "metadata": {
    "id": "kRBzXIcrea7Y"
   },
   "source": [
    "<span style=\"color:navy\">\n",
    "    \n",
    "    \n",
    "## Stage 3\n",
    "    \n",
    "![Stage 3](images/stage3.png)    \n",
    "\n",
    "### 3.4: Product Recommendation Layer\n",
    "\n",
    "\n",
    "    \n",
    "    \n",
    "    \n",
    "We've reached the final stage of our process: the Product Recommendation Layer. This layer takes the output from the `compare_cars_with_user` function from the previous stage and delivers the car recommendations to the user. Here are the steps involved:\n",
    "\n",
    "1. **Initialize the conversation for recommendation**: Start the interaction by setting the context for car recommendations.\n",
    "2. **Generate the recommendations and display in a presentable format**: Present the top car recommendations in an engaging and informative manner.\n",
    "3. **Ask questions based on the recommendations**: Encourage the user to ask questions about the recommended cars to help them make an informed decision.\n",
    "\n"
   ]
  },
  {
   "cell_type": "code",
   "execution_count": 40,
   "id": "6270ac40",
   "metadata": {
    "id": "6270ac40"
   },
   "outputs": [],
   "source": [
    "def initialize_conv_reco(products):\n",
    "    system_message = f\"\"\"\n",
    "    You are an intelligent car recomendation expert and you are tasked with the objective to \\\n",
    "    solve the user queries about any product from the catalogue in the user message \\\n",
    "    You should keep the user profile in mind while answering the questions.\\\n",
    "\n",
    "    Start with a brief summary of each car in the following format, in decreasing order of price of Car:\n",
    "    1. <Car model> : <Major specifications of the car>,<Benefits of these features in terms of driving experience>, <Price range in Rs>, <Dealer details>, <GPS link>\n",
    "    2. <Car model> : <Major specifications of the car>,<Benefits of these features in terms of driving experience>, <Price range in Rs>, <Dealer details>, <GPS link>\n",
    "    3. <Car model> : <Major specifications of the car>,<Benefits of these features in terms of driving experience>, <Price range in Rs>, <Dealer details>, <GPS link>\n",
    "    .\n",
    "    .\n",
    "    .\n",
    "\n",
    "    Specify above details for all the recommended products.\n",
    "    \"\"\"\n",
    "    user_message = f\"\"\" These are the user's products: {products}\"\"\"\n",
    "    conversation = [{\"role\": \"system\", \"content\": system_message },\n",
    "                    {\"role\":\"user\",\"content\":user_message}]\n",
    "    return conversation"
   ]
  },
  {
   "cell_type": "markdown",
   "id": "Djt_gMeaeo-F",
   "metadata": {
    "id": "Djt_gMeaeo-F"
   },
   "source": [
    "<span style=\"color:navy\">\n",
    "    \n",
    "    \n",
    "## Combining all the 3 stages\n",
    "\n",
    "In this section, we combine all three stages previously defined into a cohesive process.\n",
    "\n",
    "### 3.5 Dialogue Management System\n",
    "\n",
    "We now bring everything together by creating the `dialogue_mgmt_system()` function. This function orchestrates the interaction between the different layers, forming the core of our chatbot's operational logic.\n"
   ]
  },
  {
   "cell_type": "code",
   "execution_count": 41,
   "id": "K4oHQZqsUmre",
   "metadata": {
    "id": "K4oHQZqsUmre"
   },
   "outputs": [],
   "source": [
    "def dialogue_mgmt_system():\n",
    "    bot = 'CarAssist: '\n",
    "  \n",
    "\n",
    "    conversation = initialize_conversation()\n",
    "\n",
    "    introduction = get_chat_completions(conversation)\n",
    "\n",
    "    display(introduction + '\\n')\n",
    "\n",
    "    top_3_cars = None\n",
    "\n",
    "    user_input = ''\n",
    "    while(user_input != \"exit\"):\n",
    "\n",
    "        user_input = input(\"\")\n",
    "\n",
    "        moderation = moderation_check(user_input)\n",
    "        if moderation == 'Flagged':\n",
    "            display(bot + \"Sorry, this message has been flagged. Please restart your conversation.\")\n",
    "            break\n",
    "\n",
    "        if top_3_cars is None:\n",
    "\n",
    "            conversation.append({\"role\": \"user\", \"content\": user_input})\n",
    "\n",
    "            response_assistant = get_chat_completions(conversation)\n",
    "            moderation = moderation_check(response_assistant)\n",
    "            if moderation == 'Flagged':\n",
    "                display(bot + \"Sorry, this message has been flagged. Please restart your conversation.\")\n",
    "                break\n",
    "\n",
    "\n",
    "            confirmation = intent_confirmation_layer(response_assistant)\n",
    "\n",
    "#           print(\"Intent Confirmation Yes/No:\",confirmation.get('result'))\n",
    "\n",
    "            if \"No\" in confirmation.get('result'):\n",
    "                conversation.append({\"role\": \"assistant\", \"content\": str(response_assistant)})\n",
    "                print(\"\\n\" + bot + str(response_assistant) + \"\\n\")\n",
    "\n",
    "            else:\n",
    "                print(\"\\n\" + bot + str(response_assistant) + \"\\n\")\n",
    "                print('\\n' + \"Recommended Cars!\" + '\\n')\n",
    "\n",
    "                response = dictionary_present(response_assistant)\n",
    "\n",
    "                print(\"Thank you for providing all the information. Kindly wait, while I fetch the cars matching: \\n\")\n",
    "                top_3_cars = compare_cars_with_user(response)\n",
    "\n",
    "#               print(\"top 3 cars are\", top_3_cars) - commentted\n",
    "\n",
    "                validated_reco = recommendation_validation(top_3_cars)\n",
    "\n",
    "                conversation_reco = initialize_conv_reco(validated_reco)\n",
    "\n",
    "                conversation_reco.append({\"role\": \"user\", \"content\": \"This is my user profile\" + str(response)})\n",
    "\n",
    "                recommendation = get_chat_completions(conversation_reco)\n",
    "\n",
    "                moderation = moderation_check(recommendation)\n",
    "                if moderation == 'Flagged':\n",
    "                    display(\"Sorry, this message has been flagged. Please restart your conversation.\")\n",
    "                    break\n",
    "\n",
    "                conversation_reco.append({\"role\": \"assistant\", \"content\": str(recommendation)})\n",
    "\n",
    "                print(bot + str(recommendation) + '\\n')\n",
    "\n",
    "             \n",
    "                \n",
    "        else:\n",
    "            conversation_reco.append({\"role\": \"user\", \"content\": user_input})\n",
    "\n",
    "            response_asst_reco = get_chat_completions(conversation_reco)\n",
    "\n",
    "            moderation = moderation_check(response_asst_reco)\n",
    "            if moderation == 'Flagged':\n",
    "                print(bot + \"Sorry, this message has been flagged. Please restart your conversation.\")\n",
    "                break\n",
    "\n",
    "            print('\\n' + bot + response_asst_reco + '\\n')\n",
    "            conversation.append({\"role\": \"assistant\", \"content\": response_asst_reco})"
   ]
  },
  {
   "cell_type": "code",
   "execution_count": 42,
   "id": "KI9EWNc16xxe",
   "metadata": {
    "colab": {
     "base_uri": "https://localhost:8080/",
     "height": 942
    },
    "id": "KI9EWNc16xxe",
    "outputId": "44e80d0d-4806-4707-fa68-9c41914bafc8"
   },
   "outputs": [
    {
     "data": {
      "text/plain": [
       "\"Hello! I'm here to help you find the perfect car based on your preferences. What type of car are you looking for? Feel free to share your requirements so we can find the best match for you.\\n\""
      ]
     },
     "metadata": {},
     "output_type": "display_data"
    },
    {
     "name": "stdout",
     "output_type": "stream",
     "text": [
      "Myself Shrinivas\n",
      "\n",
      "CarAssist: Hello Shrinivas! I am here to assist you in finding the perfect car based on your preferences. What type of car are you looking for, and what are your specific requirements?\n",
      "\n",
      "I prefer SUV\n",
      "\n",
      "CarAssist: Great choice! Could you please specify your budget for the SUV in INR? This will help me narrow down the options that fit within your price range while meeting your preferences.\n",
      "\n",
      "around 2.2 million\n",
      "\n",
      "CarAssist: Thank you for providing your budget. That translates to 2,200,000 INR. What fuel efficiency are you looking for in terms of kmpl for the SUV?\n",
      "\n",
      "I prefer around 16 kmpl\n",
      "\n",
      "CarAssist: Thank you for specifying the fuel efficiency. How many seats would you prefer in the SUV?\n",
      "\n",
      "For around 5 family members\n",
      "\n",
      "CarAssist: Understood, a 5-seater SUV would be ideal for your family. What about the transmission type? Do you prefer manual or automatic transmission in the SUV?\n",
      "\n",
      "auto please\n",
      "\n",
      "CarAssist: Great choice! Lastly, do you have a preference for the type of fuel for the SUV?\n",
      "\n",
      "I am petrol lover\n",
      "\n",
      "CarAssist: Great choice! Let me summarize your preferences: You are looking for an SUV with automatic transmission, petrol as fuel type, around 16 kmpl, 5-seater, and your budget is around 2,200,000 INR. Is that correct?\n",
      "\n",
      "Right, do suggest best match\n",
      "\n",
      "CarAssist: Based on your preferences, here is the best match for you:\n",
      "- Fuel Efficiency: 16 kmpl\n",
      "- Car Category: Compact SUV\n",
      "- Seater: 5\n",
      "- Transmission: Automatic\n",
      "- Fuel Type: Petrol\n",
      "- Price: 2,200,000 INR\n",
      "\n",
      "I hope this recommendation fits your requirements. Let me know if you need more information or if you have any other preferences.\n",
      "\n",
      "\n",
      "Recommended Cars!\n",
      "\n",
      "Thank you for providing all the information. Kindly wait, while I fetch the cars matching: \n",
      "\n",
      "CarAssist: 1. Tata Harrier : Mid-size SUV, 2.0L engine, Automatic transmission, Diesel fuel type, 16 kmpl, White color, 5 seater, manufactured in 2022\n",
      "   - The Tata Harrier provides a powerful and efficient 2.0L engine with a comfortable and spacious interior. It offers good fuel efficiency of 16 kmpl, suitable for long drives.\n",
      "   - Price range: Rs 20,00,000\n",
      "   - Dealer details: GH76 Carman\n",
      "   - Dealer GPS: [Location](https://www.google.com/maps/search/?api=1&query=19.84703049514159,75.19856683995741)\n",
      "\n",
      "2. MG Hector : Mid-size SUV, 2.0L engine, Automatic transmission, Diesel fuel type, 17 kmpl, Silver color, 5 seater, manufactured in 2023\n",
      "   - The MG Hector features a reliable 2.0L engine and offers a smooth driving experience with its automatic transmission. It has a spacious interior and good fuel efficiency of 17 kmpl.\n",
      "   - Price range: Rs 18,00,000\n",
      "   - Dealer details: XXY Carzone\n",
      "   - Dealer GPS: [Location](https://www.google.com/maps/search/?api=1&query=25.57695455061932,81.94427236458313)\n",
      "\n",
      "3. Hyundai Elantra : Sedan, 2.0L engine, Automatic transmission, Petrol fuel type, 15 kmpl, Black color, 5 seater, manufactured in 2022\n",
      "   - The Hyundai Elantra offers a comfortable ride with its 2.0L engine and automatic transmission. It provides a stylish design and adequate fuel efficiency of 15 kmpl.\n",
      "   - Price range: Rs 18,00,000\n",
      "   - Dealer details: GH76 Carman\n",
      "   - Dealer GPS: [Location](https://www.google.com/maps/search/?api=1&query=23.742630007788858,82.41334651581622)\n",
      "\n",
      "Which one is best among this? \n",
      "\n",
      "CarAssist: Based on your user profile of wanting a Compact SUV with Automatic transmission, Petrol fuel type, 5 seating capacity, and a budget of Rs 22,00,000, the best option among the given choices would be the Tata Harrier. Although it is categorized as a Mid-size SUV, it meets most of your requirements with its Automatic transmission, Diesel fuel type, 16 kmpl mileage, and within your budget at Rs 20,00,000. The Tata Harrier offers a good balance of features, performance, and price that align with your preferences.\n",
      "\n",
      "exit\n",
      "\n",
      "CarAssist: It seems you want to exit. If you have any more questions in the future, feel free to ask. Have a great day! Goodbye!\n",
      "\n"
     ]
    }
   ],
   "source": [
    "dialogue_mgmt_system()"
   ]
  },
  {
   "cell_type": "code",
   "execution_count": 44,
   "id": "d0fc475e",
   "metadata": {},
   "outputs": [
    {
     "data": {
      "text/plain": [
       "\"Welcome! I'm here to help you find the perfect car based on your preferences. \\nCould you please let me know what type of car you are looking for? Are you interested in a Hatchback, Sedan, SUV, or another type?\\n\""
      ]
     },
     "metadata": {},
     "output_type": "display_data"
    },
    {
     "name": "stdout",
     "output_type": "stream",
     "text": [
      "Myself Shrinivas\n",
      "\n",
      "CarAssist: Hello Shrinivas! I am here to assist you in finding the perfect car based on your preferences. What type of car are you looking for today? Feel free to share any specific requirements or features you have in mind.\n",
      "\n",
      "either Sedan or SUV should be fine\n",
      "\n",
      "CarAssist: Thank you for sharing your preference, Shrinivas. Could you please specify your budget for the car in lacs or millions? This will help me find options that fit within your price range while meeting your specified requirements.\n",
      "\n",
      "up to 45 lacs\n",
      "\n",
      "CarAssist: Great! So, your budget is around 4,500,000 INR. What fuel efficiency are you looking for in terms of kmpl?\n",
      "\n",
      "around 10 kmpl\n",
      "\n",
      "CarAssist: Thank you for the information. How many seats would you prefer in the car?\n",
      "\n",
      "I need for family of 5 members\n",
      "\n",
      "CarAssist: Understood. What type of transmission do you prefer: manual or automatic?\n",
      "\n",
      "automatic please \n",
      "\n",
      "CarAssist: Got it, automatic transmission. Lastly, do you have a preference for the type of fuel?\n",
      "\n",
      "I prefer Diesel\n",
      "\n",
      "CarAssist: Thank you for providing your preferences, Shrinivas. Based on the information you've shared, you're looking for a car in the price range of up to 45 lacs (4,500,000 INR), with a fuel efficiency of around 10 kmpl, seating for 5 members, automatic transmission, and a preference for diesel fuel type. Considering these requirements, let's find the best options for you. Let's proceed.\n",
      "\n",
      "yes please\n",
      "\n",
      "CarAssist: Based on your preferences, here are the best car recommendations for you:\n",
      "\n",
      "- **kmpl**: 10\n",
      "- **car category**: Sedan\n",
      "- **seater**: 5\n",
      "- **transmission**: Automatic\n",
      "- **fuel type**: Diesel\n",
      "- **price**: 4500000 INR\n",
      "\n",
      "I hope you find this information helpful in selecting your ideal car. If you have any specific brands or models in mind, feel free to let me know so we can further refine the options.\n",
      "\n",
      "\n",
      "Recommended Cars!\n",
      "\n",
      "Thank you for providing all the information. Kindly wait, while I fetch the cars matching: \n",
      "\n",
      "CarAssist: Summary of recommended cars based on your profile:\n",
      "\n",
      "1. Audi A4: Sedan, 2.0L engine, Automatic transmission, Diesel fuel type, 14 kmpl. The Audi A4 offers a luxurious driving experience with advanced features. Price range: Rs 4,200,000. Dealer: GH76 Carman. [View on map](https://www.google.com/maps/search/?api=1&query=26.09894478127329,86.12430362448052)\n",
      "\n",
      "2. BMW 3 Series: Sedan, 2.0L engine, Automatic transmission, Petrol fuel type, 15 kmpl. The BMW 3 Series provides a blend of performance and comfort. Price range: Rs 4,000,000. Dealer: XXY Carzone. [View on map](https://www.google.com/maps/search/?api=1&query=34.09035591347302,81.5787230248)\n",
      "\n",
      "Since the Audi A4 matches your profile specifications more closely, it would be a suitable choice for you among the recommended options.\n",
      "\n",
      "Sure, thank you!\n",
      "\n",
      "CarAssist: You're welcome! If you have any more questions or need further assistance in the future, feel free to ask. Enjoy your car shopping!\n",
      "\n",
      "exit\n",
      "\n",
      "CarAssist: Goodbye! Feel free to return if you have more questions in the future.\n",
      "\n"
     ]
    }
   ],
   "source": [
    "dialogue_mgmt_system()"
   ]
  },
  {
   "cell_type": "code",
   "execution_count": 46,
   "id": "2bce71e2",
   "metadata": {},
   "outputs": [
    {
     "data": {
      "text/plain": [
       "\"Welcome! I'm here to help you find the perfect car based on your preferences. \\nCould you please let me know what type of car you are looking for? Are you interested in a Hatchback, Sedan, SUV, or another type?\\n\""
      ]
     },
     "metadata": {},
     "output_type": "display_data"
    },
    {
     "name": "stdout",
     "output_type": "stream",
     "text": [
      "I need MPV\n",
      "\n",
      "CarAssist: Great! As a car recommendation assistant, I can help you find the perfect MPV based on your preferences. Could you please specify your budget for the car in INR? This will help me find options that fit within your price range while meeting your specified requirements.\n",
      "\n",
      "2000000\n",
      "\n",
      "CarAssist: Thank you for providing that information. What fuel efficiency are you looking for in terms of kmpl?\n",
      "\n",
      "I prefer around 12 kmpl\n",
      "\n",
      "CarAssist: Great! And how many seats would you like in the MPV?\n",
      "\n",
      "7 seater for bigger family\n",
      "\n",
      "CarAssist: Got it, a 7-seater. What about the transmission type? Do you prefer manual or automatic for your MPV?\n",
      "\n",
      "i prefer auto\n",
      "\n",
      "CarAssist: Automatic, understood. Lastly, do you have a preference for the type of fuel for your MPV?\n",
      "\n",
      "none\n",
      "\n",
      "CarAssist: I'm sorry, but I need to confirm your preference for the fuel type. Would you like a petrol or diesel MPV?\n",
      "\n",
      "In that case, i prefer Diesel\n",
      "\n",
      "CarAssist: Great! Let me summarize your preferences: You're looking for an MPV with automatic transmission, diesel as fuel type, offering around 12 kmpl, with 7 seats, and your budget is 2,000,000 INR. Is that correct?\n",
      "\n",
      "\n",
      "Recommended Cars!\n",
      "\n",
      "Thank you for providing all the information. Kindly wait, while I fetch the cars matching: \n",
      "\n",
      "CarAssist: Summary of Recommended Cars:\n",
      "1. Tata Harrier : 2.0L engine, Automatic transmission, Diesel fuel type, 16 kmpl, White color, 5 seater, manufactured in 2022. The Tata Harrier is a mid-size SUV offering a powerful engine, smooth automatic transmission, and impressive fuel efficiency. Priced at Rs 20,00,000. Dealer: GH76 Carman. [View on Map](https://www.google.com/maps/search/?api=1&query=19.84703049514159,75.19856683995741)\n",
      "\n",
      "2. Toyota Innova Crysta : 2.4L engine, Manual transmission, Diesel fuel type, 15 kmpl, Silver color, 7 seater, manufactured in 2022. The Toyota Innova Crysta is a spacious MPV with a reliable engine, manual transmission, and good fuel efficiency. Priced at Rs 18,00,000. Dealer: XXY Carzone. [View on Map](https://www.google.com/maps/search/?api=1&query=29.502366423032317,83.27077553311952)\n",
      "\n",
      "The recommended cars cater to your requirement of a 7-seater diesel automatic MPV in the specified price range.\n",
      "\n",
      "which one is best? \n",
      "\n",
      "CarAssist: Both the Tata Harrier and Toyota Innova Crysta are excellent cars, but the best choice for you would depend on your specific preferences and priorities.\n",
      "\n",
      "If you are looking for a mid-size SUV with a powerful engine, automatic transmission, and modern features, the Tata Harrier would be a great choice. It offers a stylish design, comfortable seating for 5 passengers, and good fuel efficiency.\n",
      "\n",
      "On the other hand, if you prioritize space, comfort, and a proven track record of reliability, the Toyota Innova Crysta could be the better option. It is a popular MPV known for its durability, practicality, and ample space for passengers.\n",
      "\n",
      "Ultimately, the decision between the Tata Harrier and Toyota Innova Crysta comes down to your personal preferences regarding SUV vs MPV, driving experience, and specific features that matter most to you.\n",
      "\n",
      "exit\n",
      "\n",
      "CarAssist: It seems like you want to exit. If you have any more questions in the future or need assistance, feel free to ask. Have a great day! Goodbye!\n",
      "\n"
     ]
    }
   ],
   "source": [
    "dialogue_mgmt_system()"
   ]
  },
  {
   "cell_type": "code",
   "execution_count": 53,
   "id": "528a2476",
   "metadata": {},
   "outputs": [
    {
     "data": {
      "text/plain": [
       "\"Welcome! I'm here to help you find the perfect car based on your preferences. \\nCould you please share what type of car you are looking for? Are you interested in a Hatchback, Sedan, SUV, or another type?\\n\""
      ]
     },
     "metadata": {},
     "output_type": "display_data"
    },
    {
     "name": "stdout",
     "output_type": "stream",
     "text": [
      "Hatchback\n",
      "\n",
      "CarAssist: Great! Hatchbacks are quite popular for their compact size and efficiency. \n",
      "Could you please specify your budget for the car in lacs or millions? This will help me find options that fit within your price range while meeting your specified requirements.\n",
      "\n",
      "1000000\n",
      "\n",
      "CarAssist: Thank you for providing your budget. So, your budget is 1,000,000 INR. \n",
      "What fuel efficiency are you looking for in terms of kmpl?\n",
      "\n",
      "12\n",
      "\n",
      "CarAssist: Thank you for specifying the fuel efficiency you desire. \n",
      "Next, could you please let me know how many seats you prefer in the Hatchback?\n",
      "\n",
      "4 seater\n",
      "\n",
      "CarAssist: Thank you for confirming the number of seats you prefer. \n",
      "Moving on, do you have a preference for the transmission type? Do you prefer manual or automatic transmission in the Hatchback?\n",
      "\n",
      "manual\n",
      "\n",
      "CarAssist: Thank you for specifying the transmission preference. \n",
      "Lastly, do you have a preference for the type of fuel? Would you like a petrol or diesel Hatchback?\n",
      "\n",
      "petrol\n",
      "\n",
      "CarAssist: Great choice! Let me summarize your preferences: \n",
      "You're looking for a Hatchback with manual transmission, petrol as fuel type, at least 12 kmpl, 4 seats, and your budget is around 1,000,000 INR. \n",
      "Is that correct?\n",
      "\n",
      "\n",
      "Recommended Cars!\n",
      "\n",
      "Thank you for providing all the information. Kindly wait, while I fetch the cars matching: \n",
      "\n",
      "CarAssist: Based on your user profile, here are the recommended cars:\n",
      "\n",
      "1. **Hyundai i20 Automatic** : 1.2L engine, Automatic transmission, Petrol fuel type, 20 kmpl, Red color, 5 seater, manufactured in 2023.\n",
      "   - The automatic transmission will provide a smoother driving experience compared to manual transmission.\n",
      "   - Price Range: Rs 10,00,000\n",
      "   - Dealer: MNY Cars\n",
      "   - [View on Map](https://www.google.com/maps/search/?api=1&query=29.056771995809623,78.52871715365762)\n",
      "\n",
      "2. **Hyundai i20 Manual** : 1.2L engine, Manual transmission, Petrol fuel type, 20 kmpl, Red color, 5 seater, manufactured in 2023.\n",
      "   - Manual transmission gives you more control over the gears and can be engaging for driving enthusiasts.\n",
      "   - Price Range: Rs 9,00,000\n",
      "   - Dealer: MNY Cars\n",
      "   - [View on Map](https://www.google.com/maps/search/?api=1&query=29.633261240912827,94.46973442349474)\n",
      "\n",
      "3. **Maruti Suzuki Baleno** : 1.2L engine, Manual transmission, Petrol fuel type, 21 kmpl, Blue color, 5 seater, manufactured in 2022.\n",
      "   - The higher mileage (21 kmpl) will result in increased fuel efficiency and fewer visits to the gas station.\n",
      "   - Price Range: Rs 8,00,000\n",
      "   - Dealer: MNY Cars\n",
      "   - [View on Map](https://www.google.com/maps/search/?api=1&query=23.653650795524356,78.95405247576491)\n",
      "\n",
      "Feel free to visit the dealers to get more details and test drive the cars.\n",
      "\n",
      "which one is the best\n",
      "\n",
      "CarAssist: Based on your user profile and preferences, the **Maruti Suzuki Baleno** would be the best option for you among the recommended cars. Here's why:\n",
      "\n",
      "1. **Price:** The Maruti Suzuki Baleno is the most affordable option among the recommended cars, priced at Rs 8,00,000.\n",
      "2. **Fuel Efficiency:** It offers a higher mileage of 21 kmpl, which aligns well with your preference for fuel efficiency.\n",
      "3. **Transmission:** It comes with Manual transmission, which is in line with your preference.\n",
      "4. **Seating Capacity:** It has a seating capacity of 5, which suits your requirement of 4-seater car.\n",
      "5. **Color:** The Blue color of the Maruti Suzuki Baleno adds a touch of style and uniqueness.\n",
      "\n",
      "Overall, the Maruti Suzuki Baleno offers a good balance of price, fuel efficiency, and features that align with your user profile. Feel free to visit the dealer for more information and a test drive.\n",
      "\n",
      "exit\n",
      "\n",
      "CarAssist: It seems like you are done with the conversation. If you have any more questions in the future, feel free to ask. Have a great day! Goodbye!\n",
      "\n"
     ]
    }
   ],
   "source": [
    "dialogue_mgmt_system()"
   ]
  },
  {
   "cell_type": "code",
   "execution_count": 54,
   "id": "a7bdf5a4-e3b8-415b-bed9-ed8070b02ef2",
   "metadata": {},
   "outputs": [],
   "source": [
    "import ast\n",
    "import re\n",
    "\n",
    "def extract_dictionary_from_string(string):\n",
    "    regex_pattern = r\"\\{[^{}]+\\}\"\n",
    "\n",
    "    dictionary_matches = re.findall(regex_pattern, str(string))\n",
    "\n",
    "    # Extract the first dictionary match and convert it to lowercase\n",
    "    if dictionary_matches:\n",
    "        dictionary_string = dictionary_matches[0]\n",
    "        dictionary_string = dictionary_string.lower()\n",
    "\n",
    "        # Convert the dictionary string to a dictionary object using ast.literal_eval()\n",
    "        dictionary = ast.literal_eval(dictionary_string)\n",
    "    return dictionary"
   ]
  },
  {
   "cell_type": "markdown",
   "id": "1daaf7b3",
   "metadata": {
    "id": "1daaf7b3"
   },
   "source": [
    "<span style=\"color:navy\">\n",
    "\n",
    "## Part IV: Evaluation"
   ]
  },
  {
   "cell_type": "code",
   "execution_count": 55,
   "id": "13f87259",
   "metadata": {
    "colab": {
     "base_uri": "https://localhost:8080/"
    },
    "id": "13f87259",
    "outputId": "e5dfca84-5a08-4af0-816e-86cd824e512c"
   },
   "outputs": [
    {
     "name": "stdout",
     "output_type": "stream",
     "text": [
      "{'kmpl': 18, 'car category': 'hatchback', 'seater': 5, 'transmission': 'manual', 'fuel type': 'petrol', 'price': 1000000}\n"
     ]
    }
   ],
   "source": [
    "student_car = [\n",
    "    {\"role\": \"assistant\", \"content\": \"Welcome! I'm here to help you find the perfect car for your needs. Could you please share your budget and the type of car you're looking for?\"},\n",
    "    {\"role\": \"user\", \"content\": \"Hi, I am a student looking for a hatchback that's economical and reliable for daily commuting. My budget is 10 Lakhs.\"},\n",
    "    {\"role\": \"assistant\", \"content\": \"A hatchback sounds ideal for your needs. What fuel type do you prefer, and are you looking for a specific transmission type?\"},\n",
    "    {\"role\": \"user\", \"content\": \"I would prefer a petrol vehicle with manual transmission.\"},\n",
    "    {\"role\": \"assistant\", \"content\": \"Got it, a manual petrol hatchback. How many seats should the car have to comfortably accommodate your needs?\"},\n",
    "    {\"role\": \"user\", \"content\": \"It should fit around 5 people comfortably.\"},\n",
    "    {\"role\": \"assistant\", \"content\": \"Perfect! One last thing, could you specify your fuel efficiency expectations in terms of kmpl? This will help us find the most economical options for your daily commutes.\"},\n",
    "    {\"role\": \"user\", \"content\": \"I'm hoping for something that offers at least 18 kmpl.\"}\n",
    "]\n",
    "\n",
    "student_car_initialize = initialize_conversation()\n",
    "student_car_initialize.extend(student_car)\n",
    "student_car_assistant_output = get_chat_completions(student_car_initialize)\n",
    "student_car_response_dict = dictionary_present(student_car_assistant_output)\n",
    "\n",
    "student_car_dict = extract_dictionary_from_string(student_car_response_dict)\n",
    "print(student_car_dict)"
   ]
  },
  {
   "cell_type": "code",
   "execution_count": 56,
   "id": "92e8bce4",
   "metadata": {},
   "outputs": [
    {
     "name": "stdout",
     "output_type": "stream",
     "text": [
      "{'kmpl': 18, 'car category': 'hatchback', 'seater': 5, 'transmission': 'manual', 'fuel type': 'petrol', 'price': 1000000}\n"
     ]
    }
   ],
   "source": [
    "student_car_tagged_dict = {'kmpl': 18, 'car category': 'hatchback', 'seater': 5, 'transmission': 'manual', 'fuel type': 'petrol', 'price': 1000000}\n",
    "print(student_car_tagged_dict)"
   ]
  },
  {
   "cell_type": "code",
   "execution_count": 57,
   "id": "7dd765de",
   "metadata": {
    "colab": {
     "base_uri": "https://localhost:8080/",
     "height": 203
    },
    "id": "7dd765de",
    "outputId": "7cf83687-6b1a-4f29-a6f7-a06e9505086f",
    "scrolled": true
   },
   "outputs": [
    {
     "name": "stdout",
     "output_type": "stream",
     "text": [
      "{'kmpl': 22, 'car category': 'sedan', 'seater': 4, 'transmission': 'automatic', 'fuel type': 'diesel', 'price': 2000000}\n"
     ]
    }
   ],
   "source": [
    "family_car = [\n",
    "    {\"role\": \"assistant\", \"content\": \"Welcome! I'm here to help you find the perfect car for your family. Could you please share your budget and the type of car you're looking for?\"},\n",
    "    {\"role\": \"user\", \"content\": \"Hi, I am looking for a sedan that's great for comfortable daily commuting. My budget is 20 Lakhs.\"},\n",
    "    {\"role\": \"assistant\", \"content\": \"A sedan sounds ideal for your needs. What fuel type do you prefer, and are you looking for a specific transmission type?\"},\n",
    "    {\"role\": \"user\", \"content\": \"I am looking for a diesel vehicle with automatic transmission.\"},\n",
    "    {\"role\": \"assistant\", \"content\": \"Got it, an automatic diesel sedan. How many seats should the car have to comfortably accommodate your family?\"},\n",
    "    {\"role\": \"user\", \"content\": \"It should fit around 4 people comfortably.\"},\n",
    "    {\"role\": \"assistant\", \"content\": \"Perfect! One last thing, could you specify your fuel efficiency expectations in terms of kmpl? This will help us find the most economical options for your daily commutes.\"},\n",
    "    {\"role\": \"user\", \"content\": \"I'm hoping for something that offers at least 22 kmpl.\"}\n",
    "]\n",
    "\n",
    "family_car_initialize = initialize_conversation()\n",
    "family_car_initialize.extend(family_car)\n",
    "family_car_assistant_output = get_chat_completions(family_car_initialize)\n",
    "family_car_response_dict = dictionary_present(family_car_assistant_output)\n",
    "family_car_dict = extract_dictionary_from_string(family_car_response_dict)\n",
    "print(family_car_dict)\n"
   ]
  },
  {
   "cell_type": "code",
   "execution_count": 58,
   "id": "f0a11b78",
   "metadata": {},
   "outputs": [
    {
     "name": "stdout",
     "output_type": "stream",
     "text": [
      "{'kmpl': 22, 'car category': 'sedan', 'seater': 4, 'transmission': 'automatic', 'fuel type': 'diesel', 'price': 2000000}\n"
     ]
    }
   ],
   "source": [
    "family_car_tagged_dict = {'kmpl': 22, 'car category': 'sedan', 'seater': 4, 'transmission': 'automatic', 'fuel type': 'diesel', 'price': 2000000}\n",
    "print(family_car_tagged_dict)"
   ]
  },
  {
   "cell_type": "code",
   "execution_count": 63,
   "id": "a5fd6e41",
   "metadata": {
    "colab": {
     "base_uri": "https://localhost:8080/"
    },
    "id": "a5fd6e41",
    "outputId": "0591ce59-28c0-41b0-c0ee-8c7f961d4a3c"
   },
   "outputs": [
    {
     "name": "stdout",
     "output_type": "stream",
     "text": [
      "{'kmpl': 12, 'car category': 'full-size suv', 'seater': 7, 'transmission': 'automatic', 'fuel type': 'diesel', 'price': 5000000}\n"
     ]
    }
   ],
   "source": [
    "businessman_car = [\n",
    "    {\"role\": \"assistant\", \"content\": \"Welcome! I'm here to help you find the perfect car for your needs. Could you please share your budget and the type of car you're looking for?\"},\n",
    "    {\"role\": \"user\", \"content\": \"Hi, I am a businessman looking for a full-size SUV that's comfortable for long drives and client meetings. My budget is 5 million.\"},\n",
    "    {\"role\": \"assistant\", \"content\": \"A full-size SUV sounds ideal for your needs. What fuel type do you prefer, and are you looking for a specific transmission type?\"},\n",
    "    {\"role\": \"user\", \"content\": \"I would prefer a diesel vehicle with automatic transmission.\"},\n",
    "    {\"role\": \"assistant\", \"content\": \"Got it, an automatic diesel full-size SUV. How many seats should the car have to comfortably accommodate your needs?\"},\n",
    "    {\"role\": \"user\", \"content\": \"It should fit around 7 people comfortably.\"},\n",
    "    {\"role\": \"assistant\", \"content\": \"Perfect! One last thing, could you specify your fuel efficiency expectations in terms of kmpl? This will help us find the most economical options for your long drives.\"},\n",
    "    {\"role\": \"user\", \"content\": \"I'm hoping for something that offers around 12 kmpl.\"}\n",
    "]\n",
    "\n",
    "businessman_car_initialize = initialize_conversation()\n",
    "businessman_car_initialize.extend(businessman_car)\n",
    "businessman_car_assistant_output = get_chat_completions(businessman_car_initialize)\n",
    "businessman_car_response_dict = dictionary_present(businessman_car_assistant_output)\n",
    "businessman_car_dict = extract_dictionary_from_string(businessman_car_response_dict)\n",
    "print(businessman_car_dict)\n",
    "\n"
   ]
  },
  {
   "cell_type": "code",
   "execution_count": 64,
   "id": "611dde2f",
   "metadata": {
    "colab": {
     "base_uri": "https://localhost:8080/"
    },
    "id": "611dde2f",
    "outputId": "1c217d09-d3a0-4fe2-8520-35409c520acc"
   },
   "outputs": [
    {
     "name": "stdout",
     "output_type": "stream",
     "text": [
      "{'kmpl': 12, 'car category': 'full-size suv', 'seater': 7, 'transmission': 'automatic', 'fuel type': 'diesel', 'price': 5000000}\n"
     ]
    }
   ],
   "source": [
    "businessman_car_tagged_dict = {'kmpl': 12, 'car category': 'full-size suv', 'seater': 7, 'transmission': 'automatic', 'fuel type': 'diesel', 'price': 5000000}\n",
    "print(businessman_car_tagged_dict)"
   ]
  },
  {
   "cell_type": "code",
   "execution_count": 65,
   "id": "71e9a5f7",
   "metadata": {
    "id": "71e9a5f7"
   },
   "outputs": [],
   "source": [
    "def evaluate_model_response(tagged_dict, model_dict):\n",
    "    score = 0    \n",
    "\n",
    "    for key in tagged_dict.keys():\n",
    "        if key == 'price':\n",
    "            continue\n",
    "        tagged_value = tagged_dict[key]\n",
    "        model_value = model_dict[key]\n",
    "        if tagged_value == model_value:\n",
    "            score += 1\n",
    "\n",
    "    return score\n"
   ]
  },
  {
   "cell_type": "code",
   "execution_count": 66,
   "id": "ad9b47b8",
   "metadata": {
    "colab": {
     "base_uri": "https://localhost:8080/"
    },
    "id": "ad9b47b8",
    "outputId": "7d8898a6-59fa-4960-f4c6-ef762c41e7e8"
   },
   "outputs": [
    {
     "name": "stdout",
     "output_type": "stream",
     "text": [
      "5\n",
      "5\n",
      "5\n"
     ]
    }
   ],
   "source": [
    "student_car_score = evaluate_model_response(student_car_tagged_dict,student_car_dict)\n",
    "print(student_car_score)\n",
    "\n",
    "\n",
    "\n",
    "family_car_score = evaluate_model_response(family_car_tagged_dict,family_car_dict)\n",
    "print(family_car_score)\n",
    "\n",
    "\n",
    "\n",
    "businessman_road_score = evaluate_model_response(businessman_car_tagged_dict,businessman_car_dict)\n",
    "print(businessman_road_score)"
   ]
  },
  {
   "cell_type": "markdown",
   "id": "0d4ca9b1",
   "metadata": {
    "id": "0d4ca9b1"
   },
   "source": [
    "<span style=\"color:navy\">\n",
    "\n",
    "## Part V: Areas of Improvement and Final Comments\n",
    "    \n",
    "For some cases the match was exact. In some cases there was a mismatch due to:-\n",
    "- case sensitivity\n",
    "- singular and plural comparision    "
   ]
  },
  {
   "cell_type": "markdown",
   "id": "6d234dca",
   "metadata": {},
   "source": [
    "<span style=\"color:navy\">\n",
    "\n",
    "## Part V: Areas of Improvement and Final Comments\n",
    "\n",
    "1. The output format of each layer is inconsistent. The function API capability of GPT to instruct the output format as per the input request can be used to fix it.\n",
    "2. Once the products are extracted, the dialogue flow doesn’t allow recalling of product extraction if there is any intent change. Another layer to observe any request for a change in the user intent and then use this flag to recall the product extraction based on the updated intent, should be implemented.\n",
    "3. User satisfaction rating could be added.\n",
    "4. Web application development. \n",
    "5. **UI** development for better user interaction.\n",
    "6. Google API column can be used for ***Function calling*** for future enhancment. This should help user to click and get car dealer location. \n"
   ]
  },
  {
   "cell_type": "markdown",
   "id": "baddd702",
   "metadata": {},
   "source": [
    "<span style=\"color:navy\">\n",
    "    \n",
    "## Thank you !!"
   ]
  },
  {
   "cell_type": "code",
   "execution_count": null,
   "id": "87842f82",
   "metadata": {},
   "outputs": [],
   "source": []
  }
 ],
 "metadata": {
  "colab": {
   "provenance": [],
   "toc_visible": true
  },
  "kernelspec": {
   "display_name": "Python 3 (ipykernel)",
   "language": "python",
   "name": "python3"
  },
  "language_info": {
   "codemirror_mode": {
    "name": "ipython",
    "version": 3
   },
   "file_extension": ".py",
   "mimetype": "text/x-python",
   "name": "python",
   "nbconvert_exporter": "python",
   "pygments_lexer": "ipython3",
   "version": "3.11.7"
  }
 },
 "nbformat": 4,
 "nbformat_minor": 5
}
